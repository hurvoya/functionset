{
 "cells": [
  {
   "cell_type": "markdown",
   "id": "a8011ba2",
   "metadata": {},
   "source": [
    "# <font color=\"Green\">Etape 0 : Import librairies et chargement du DF</font>"
   ]
  },
  {
   "cell_type": "code",
   "execution_count": 1,
   "id": "651fd94b",
   "metadata": {},
   "outputs": [],
   "source": [
    "# Import des librairies\n",
    "import pandas as pd\n",
    "import seaborn as sns\n",
    "import numpy as np\n",
    "import matplotlib.pyplot as plt\n",
    "from sklearn.experimental import enable_iterative_imputer\n",
    "from sklearn.impute import IterativeImputer"
   ]
  },
  {
   "cell_type": "code",
   "execution_count": 2,
   "id": "c5e71828",
   "metadata": {},
   "outputs": [
    {
     "name": "stderr",
     "output_type": "stream",
     "text": [
      "/home/anthony/.local/lib/python3.8/site-packages/IPython/core/interactiveshell.py:3444: DtypeWarning: Columns (0,8,13,22,23,27,28,29,31,52,64) have mixed types.Specify dtype option on import or set low_memory=False.\n",
      "  exec(code_obj, self.user_global_ns, self.user_ns)\n"
     ]
    }
   ],
   "source": [
    "#Ouvrir le CSV avec Panda (nécéssite un bon PC)\n",
    "df = pd.read_csv(\"BDD_CSV/BDD_nutri.csv\",sep=\"\\t\")"
   ]
  },
  {
   "cell_type": "markdown",
   "id": "9866c4ed",
   "metadata": {},
   "source": [
    "# <font color=\"Green\">Etape 1 : Premier nétoyage sur les Variables</font>"
   ]
  },
  {
   "cell_type": "markdown",
   "id": "39875dbe",
   "metadata": {},
   "source": [
    "## <font color=\"purple\">A. Filtre relatif aux Valeurs 'Not a Number' (NaN)</font>"
   ]
  },
  {
   "cell_type": "code",
   "execution_count": 3,
   "id": "038b63b2",
   "metadata": {},
   "outputs": [
    {
     "name": "stdout",
     "output_type": "stream",
     "text": [
      "Il y a  186  variables dans notre DataFrame\n"
     ]
    }
   ],
   "source": [
    "#Nombre de colonnes\n",
    "print(\"Il y a \",len(df.columns),\" variables dans notre DataFrame\")"
   ]
  },
  {
   "cell_type": "code",
   "execution_count": 4,
   "id": "dd6d31ac",
   "metadata": {},
   "outputs": [],
   "source": [
    "#Garder les colonnes avec au plus 70% de valeur Nan (sinon les variables ne sont pas exploitables)\n",
    "cols_to_keep = df.columns[df.isna().mean()<0.7]"
   ]
  },
  {
   "cell_type": "code",
   "execution_count": 5,
   "id": "24f309e5",
   "metadata": {},
   "outputs": [
    {
     "name": "stdout",
     "output_type": "stream",
     "text": [
      "il nous reste  46  variables\n"
     ]
    }
   ],
   "source": [
    "#Nombres de colonnes conservées après le filtre sur les NaN\n",
    "print(\"il nous reste \",len(cols_to_keep), \" variables\")"
   ]
  },
  {
   "cell_type": "code",
   "execution_count": 6,
   "id": "3a0556eb",
   "metadata": {
    "scrolled": true
   },
   "outputs": [
    {
     "data": {
      "text/plain": [
       "Index(['code', 'url', 'creator', 'created_t', 'created_datetime',\n",
       "       'last_modified_t', 'last_modified_datetime', 'product_name', 'brands',\n",
       "       'brands_tags', 'categories', 'categories_tags', 'categories_en',\n",
       "       'countries', 'countries_tags', 'countries_en', 'ingredients_text',\n",
       "       'additives_n', 'ingredients_from_palm_oil_n',\n",
       "       'ingredients_that_may_be_from_palm_oil_n', 'nutriscore_score',\n",
       "       'nutriscore_grade', 'nova_group', 'pnns_groups_1', 'pnns_groups_2',\n",
       "       'states', 'states_tags', 'states_en', 'main_category',\n",
       "       'main_category_en', 'image_url', 'image_small_url',\n",
       "       'image_ingredients_url', 'image_ingredients_small_url',\n",
       "       'image_nutrition_url', 'image_nutrition_small_url', 'energy-kcal_100g',\n",
       "       'energy_100g', 'fat_100g', 'saturated-fat_100g', 'carbohydrates_100g',\n",
       "       'sugars_100g', 'proteins_100g', 'salt_100g', 'sodium_100g',\n",
       "       'nutrition-score-fr_100g'],\n",
       "      dtype='object')"
      ]
     },
     "execution_count": 6,
     "metadata": {},
     "output_type": "execute_result"
    }
   ],
   "source": [
    "#Liste des variables conservées\n",
    "cols_to_keep"
   ]
  },
  {
   "cell_type": "markdown",
   "id": "8e26aba5",
   "metadata": {},
   "source": [
    "## <font color=\"purple\">B. Suppression des variables inutiles</font>"
   ]
  },
  {
   "cell_type": "code",
   "execution_count": 7,
   "id": "96fd0759",
   "metadata": {},
   "outputs": [],
   "source": [
    "#Suppression des Colonnes URL, Date et creator (non utiles)\n",
    "useless_cols = ['url', 'creator', 'created_t', 'created_datetime','last_modified_t',\n",
    "        'last_modified_datetime','image_url', 'image_small_url','image_ingredients_url',\n",
    "        'image_ingredients_small_url','image_nutrition_url','image_nutrition_small_url']"
   ]
  },
  {
   "cell_type": "code",
   "execution_count": 8,
   "id": "e76b5683",
   "metadata": {},
   "outputs": [],
   "source": [
    "#Mise à jour de la liste des variables à conservés\n",
    "cols_to_keep = cols_to_keep.drop(useless_cols)"
   ]
  },
  {
   "cell_type": "code",
   "execution_count": 9,
   "id": "6a027b0d",
   "metadata": {},
   "outputs": [
    {
     "name": "stdout",
     "output_type": "stream",
     "text": [
      "il reste  34  variables\n"
     ]
    }
   ],
   "source": [
    "print(\"il reste \", len(cols_to_keep), \" variables\")"
   ]
  },
  {
   "cell_type": "code",
   "execution_count": 10,
   "id": "7fd6dda2",
   "metadata": {},
   "outputs": [
    {
     "name": "stdout",
     "output_type": "stream",
     "text": [
      "<class 'pandas.core.frame.DataFrame'>\n",
      "RangeIndex: 1985074 entries, 0 to 1985073\n",
      "Data columns (total 34 columns):\n",
      " #   Column                                   Dtype  \n",
      "---  ------                                   -----  \n",
      " 0   code                                     object \n",
      " 1   product_name                             object \n",
      " 2   brands                                   object \n",
      " 3   brands_tags                              object \n",
      " 4   categories                               object \n",
      " 5   categories_tags                          object \n",
      " 6   categories_en                            object \n",
      " 7   countries                                object \n",
      " 8   countries_tags                           object \n",
      " 9   countries_en                             object \n",
      " 10  ingredients_text                         object \n",
      " 11  additives_n                              float64\n",
      " 12  ingredients_from_palm_oil_n              float64\n",
      " 13  ingredients_that_may_be_from_palm_oil_n  float64\n",
      " 14  nutriscore_score                         float64\n",
      " 15  nutriscore_grade                         object \n",
      " 16  nova_group                               float64\n",
      " 17  pnns_groups_1                            object \n",
      " 18  pnns_groups_2                            object \n",
      " 19  states                                   object \n",
      " 20  states_tags                              object \n",
      " 21  states_en                                object \n",
      " 22  main_category                            object \n",
      " 23  main_category_en                         object \n",
      " 24  energy-kcal_100g                         float64\n",
      " 25  energy_100g                              float64\n",
      " 26  fat_100g                                 float64\n",
      " 27  saturated-fat_100g                       float64\n",
      " 28  carbohydrates_100g                       float64\n",
      " 29  sugars_100g                              float64\n",
      " 30  proteins_100g                            float64\n",
      " 31  salt_100g                                float64\n",
      " 32  sodium_100g                              float64\n",
      " 33  nutrition-score-fr_100g                  float64\n",
      "dtypes: float64(15), object(19)\n",
      "memory usage: 514.9+ MB\n"
     ]
    }
   ],
   "source": [
    "#Mise à jour du Dataframe\n",
    "df = df[cols_to_keep]\n",
    "#Vérification des variables de df\n",
    "df.info()"
   ]
  },
  {
   "cell_type": "markdown",
   "id": "4770876b",
   "metadata": {},
   "source": [
    "## <font color=\"purple\">C. Suppression des Variables en doublons</font>"
   ]
  },
  {
   "cell_type": "markdown",
   "id": "f4ab401b",
   "metadata": {},
   "source": [
    "### <font color=\"grey\">C1. brands & brands_tags</font>"
   ]
  },
  {
   "cell_type": "code",
   "execution_count": 11,
   "id": "12109a95",
   "metadata": {},
   "outputs": [
    {
     "data": {
      "text/html": [
       "<div>\n",
       "<style scoped>\n",
       "    .dataframe tbody tr th:only-of-type {\n",
       "        vertical-align: middle;\n",
       "    }\n",
       "\n",
       "    .dataframe tbody tr th {\n",
       "        vertical-align: top;\n",
       "    }\n",
       "\n",
       "    .dataframe thead th {\n",
       "        text-align: right;\n",
       "    }\n",
       "</style>\n",
       "<table border=\"1\" class=\"dataframe\">\n",
       "  <thead>\n",
       "    <tr style=\"text-align: right;\">\n",
       "      <th></th>\n",
       "      <th>brands</th>\n",
       "      <th>brands_tags</th>\n",
       "    </tr>\n",
       "  </thead>\n",
       "  <tbody>\n",
       "    <tr>\n",
       "      <th>0</th>\n",
       "      <td>endives</td>\n",
       "      <td>endives</td>\n",
       "    </tr>\n",
       "    <tr>\n",
       "      <th>6</th>\n",
       "      <td>courte paille</td>\n",
       "      <td>courte-paille</td>\n",
       "    </tr>\n",
       "    <tr>\n",
       "      <th>7</th>\n",
       "      <td>Watt</td>\n",
       "      <td>watt</td>\n",
       "    </tr>\n",
       "    <tr>\n",
       "      <th>23</th>\n",
       "      <td>Jeff de Bruges</td>\n",
       "      <td>jeff-de-bruges</td>\n",
       "    </tr>\n",
       "    <tr>\n",
       "      <th>25</th>\n",
       "      <td>CROUS</td>\n",
       "      <td>crous</td>\n",
       "    </tr>\n",
       "    <tr>\n",
       "      <th>26</th>\n",
       "      <td>Crous Resto',Crous</td>\n",
       "      <td>crous-resto,crous</td>\n",
       "    </tr>\n",
       "    <tr>\n",
       "      <th>33</th>\n",
       "      <td>Ferme De La Frémondière</td>\n",
       "      <td>ferme-de-la-fremondiere</td>\n",
       "    </tr>\n",
       "    <tr>\n",
       "      <th>36</th>\n",
       "      <td>Crous</td>\n",
       "      <td>crous</td>\n",
       "    </tr>\n",
       "    <tr>\n",
       "      <th>41</th>\n",
       "      <td>Crous resto</td>\n",
       "      <td>crous-resto</td>\n",
       "    </tr>\n",
       "    <tr>\n",
       "      <th>46</th>\n",
       "      <td>Ferme t'y R'nao</td>\n",
       "      <td>ferme-t-y-r-nao</td>\n",
       "    </tr>\n",
       "    <tr>\n",
       "      <th>52</th>\n",
       "      <td>Crous</td>\n",
       "      <td>crous</td>\n",
       "    </tr>\n",
       "    <tr>\n",
       "      <th>58</th>\n",
       "      <td>Crous</td>\n",
       "      <td>crous</td>\n",
       "    </tr>\n",
       "    <tr>\n",
       "      <th>60</th>\n",
       "      <td>Torn &amp; Glasser</td>\n",
       "      <td>torn-glasser</td>\n",
       "    </tr>\n",
       "    <tr>\n",
       "      <th>64</th>\n",
       "      <td>Crous</td>\n",
       "      <td>crous</td>\n",
       "    </tr>\n",
       "    <tr>\n",
       "      <th>65</th>\n",
       "      <td>Ferme de l'Aiguemarse</td>\n",
       "      <td>ferme-de-l-aiguemarse</td>\n",
       "    </tr>\n",
       "    <tr>\n",
       "      <th>70</th>\n",
       "      <td>Crous</td>\n",
       "      <td>crous</td>\n",
       "    </tr>\n",
       "    <tr>\n",
       "      <th>72</th>\n",
       "      <td>Crousresto'</td>\n",
       "      <td>crousresto</td>\n",
       "    </tr>\n",
       "    <tr>\n",
       "      <th>80</th>\n",
       "      <td>Wrights of Howth</td>\n",
       "      <td>wrights-of-howth</td>\n",
       "    </tr>\n",
       "    <tr>\n",
       "      <th>81</th>\n",
       "      <td>Chocolaterie Monbana</td>\n",
       "      <td>chocolaterie-monbana</td>\n",
       "    </tr>\n",
       "    <tr>\n",
       "      <th>99</th>\n",
       "      <td>Le Bois Jumel</td>\n",
       "      <td>le-bois-jumel</td>\n",
       "    </tr>\n",
       "  </tbody>\n",
       "</table>\n",
       "</div>"
      ],
      "text/plain": [
       "                     brands              brands_tags\n",
       "0                   endives                  endives\n",
       "6             courte paille            courte-paille\n",
       "7                      Watt                     watt\n",
       "23           Jeff de Bruges           jeff-de-bruges\n",
       "25                    CROUS                    crous\n",
       "26       Crous Resto',Crous        crous-resto,crous\n",
       "33  Ferme De La Frémondière  ferme-de-la-fremondiere\n",
       "36                    Crous                    crous\n",
       "41              Crous resto              crous-resto\n",
       "46          Ferme t'y R'nao          ferme-t-y-r-nao\n",
       "52                    Crous                    crous\n",
       "58                    Crous                    crous\n",
       "60           Torn & Glasser             torn-glasser\n",
       "64                    Crous                    crous\n",
       "65    Ferme de l'Aiguemarse    ferme-de-l-aiguemarse\n",
       "70                    Crous                    crous\n",
       "72              Crousresto'               crousresto\n",
       "80         Wrights of Howth         wrights-of-howth\n",
       "81     Chocolaterie Monbana     chocolaterie-monbana\n",
       "99            Le Bois Jumel            le-bois-jumel"
      ]
     },
     "execution_count": 11,
     "metadata": {},
     "output_type": "execute_result"
    }
   ],
   "source": [
    "#Affichage des 10 premières lignes (sans Nan)\n",
    "df[['brands','brands_tags']].dropna(how='any').head(20)"
   ]
  },
  {
   "cell_type": "code",
   "execution_count": 12,
   "id": "d3a1d869",
   "metadata": {},
   "outputs": [
    {
     "data": {
      "text/plain": [
       "brands         brands_tags  \n",
       "Carrefour      carrefour        16258\n",
       "Auchan         auchan           12180\n",
       "Bonarea        bonarea           7905\n",
       "U              u                 6428\n",
       "Delhaize       delhaize          5677\n",
       "                                ...  \n",
       "LBC            lbc                  1\n",
       "LB bulgaricum  lb-bulgaricum        1\n",
       "LB Bulgaricum  lb-bulgaricum        1\n",
       "LB             lb                   1\n",
       "🤬              🤬                    1\n",
       "Length: 179060, dtype: int64"
      ]
     },
     "execution_count": 12,
     "metadata": {},
     "output_type": "execute_result"
    }
   ],
   "source": [
    "#Affichage de la répartitions par valeur\n",
    "df[['brands','brands_tags']].value_counts()"
   ]
  },
  {
   "cell_type": "code",
   "execution_count": 13,
   "id": "ea1deb0a",
   "metadata": {},
   "outputs": [
    {
     "data": {
      "text/plain": [
       "brands         0.483183\n",
       "brands_tags    0.483217\n",
       "dtype: float64"
      ]
     },
     "execution_count": 13,
     "metadata": {},
     "output_type": "execute_result"
    }
   ],
   "source": [
    "#Les valeurs se ressemblent, on va donc vérifier le taux de remplissage\n",
    "df[['brands','brands_tags']].isna().mean()"
   ]
  },
  {
   "cell_type": "code",
   "execution_count": 14,
   "id": "02347533",
   "metadata": {},
   "outputs": [],
   "source": [
    "#brands présente moins de valeurs nulles, on le conserve\n",
    "cols_to_keep = cols_to_keep.drop('brands_tags')"
   ]
  },
  {
   "cell_type": "markdown",
   "id": "7aa54152",
   "metadata": {},
   "source": [
    "### <font color=\"grey\">C2. categories, categories_tags, categories_en</font>"
   ]
  },
  {
   "cell_type": "code",
   "execution_count": 15,
   "id": "0e2aeab8",
   "metadata": {},
   "outputs": [
    {
     "data": {
      "text/html": [
       "<div>\n",
       "<style scoped>\n",
       "    .dataframe tbody tr th:only-of-type {\n",
       "        vertical-align: middle;\n",
       "    }\n",
       "\n",
       "    .dataframe tbody tr th {\n",
       "        vertical-align: top;\n",
       "    }\n",
       "\n",
       "    .dataframe thead th {\n",
       "        text-align: right;\n",
       "    }\n",
       "</style>\n",
       "<table border=\"1\" class=\"dataframe\">\n",
       "  <thead>\n",
       "    <tr style=\"text-align: right;\">\n",
       "      <th></th>\n",
       "      <th>categories</th>\n",
       "      <th>categories_tags</th>\n",
       "      <th>categories_en</th>\n",
       "    </tr>\n",
       "  </thead>\n",
       "  <tbody>\n",
       "    <tr>\n",
       "      <th>6</th>\n",
       "      <td>Epicerie, Condiments, Sauces, Moutardes</td>\n",
       "      <td>en:groceries,en:condiments,en:sauces,en:mustards</td>\n",
       "      <td>Groceries,Condiments,Sauces,Mustards</td>\n",
       "    </tr>\n",
       "    <tr>\n",
       "      <th>7</th>\n",
       "      <td>Xsf</td>\n",
       "      <td>fr:xsf</td>\n",
       "      <td>fr:xsf</td>\n",
       "    </tr>\n",
       "    <tr>\n",
       "      <th>16</th>\n",
       "      <td>Pâtes d'amande</td>\n",
       "      <td>en:marzipan,en:almond-paste</td>\n",
       "      <td>Marzipan,Almond paste</td>\n",
       "    </tr>\n",
       "    <tr>\n",
       "      <th>17</th>\n",
       "      <td>Plats préparés, Légumes préparés, Carottes râp...</td>\n",
       "      <td>en:meals,en:prepared-vegetables,en:grated-carr...</td>\n",
       "      <td>Meals,Prepared vegetables,Grated carrots,Seaso...</td>\n",
       "    </tr>\n",
       "    <tr>\n",
       "      <th>26</th>\n",
       "      <td>Tartes, Tartes sucrées, Tartes à la noix de coco</td>\n",
       "      <td>en:pies,en:sweet-pies,en:coconut-pies</td>\n",
       "      <td>Pies,Sweet pies,Coconut pies</td>\n",
       "    </tr>\n",
       "    <tr>\n",
       "      <th>36</th>\n",
       "      <td>Aliments et boissons à base de végétaux, Alime...</td>\n",
       "      <td>en:plant-based-foods-and-beverages,en:plant-ba...</td>\n",
       "      <td>Plant-based foods and beverages,Plant-based fo...</td>\n",
       "    </tr>\n",
       "    <tr>\n",
       "      <th>38</th>\n",
       "      <td>Viandes, Volailles, Poulets, Aiguillettes de p...</td>\n",
       "      <td>en:meats,en:poultries,en:chickens,fr:aiguillet...</td>\n",
       "      <td>Meats,Poultries,Chickens,fr:Aiguillettes de po...</td>\n",
       "    </tr>\n",
       "    <tr>\n",
       "      <th>40</th>\n",
       "      <td>Plats préparés, Légumes préparés, Entrées, Ent...</td>\n",
       "      <td>en:meals,en:prepared-vegetables,en:starters,en...</td>\n",
       "      <td>Meals,Prepared vegetables,Starters,Cold starte...</td>\n",
       "    </tr>\n",
       "    <tr>\n",
       "      <th>65</th>\n",
       "      <td>Aliments et boissons à base de végétaux, Boiss...</td>\n",
       "      <td>en:plant-based-foods-and-beverages,en:beverage...</td>\n",
       "      <td>Plant-based foods and beverages,Beverages,Plan...</td>\n",
       "    </tr>\n",
       "    <tr>\n",
       "      <th>66</th>\n",
       "      <td>Produits laitiers, Produits fermentés, Produit...</td>\n",
       "      <td>en:dairies,en:fermented-foods,en:fermented-mil...</td>\n",
       "      <td>Dairies,Fermented foods,Fermented milk product...</td>\n",
       "    </tr>\n",
       "  </tbody>\n",
       "</table>\n",
       "</div>"
      ],
      "text/plain": [
       "                                           categories  \\\n",
       "6             Epicerie, Condiments, Sauces, Moutardes   \n",
       "7                                                 Xsf   \n",
       "16                                     Pâtes d'amande   \n",
       "17  Plats préparés, Légumes préparés, Carottes râp...   \n",
       "26   Tartes, Tartes sucrées, Tartes à la noix de coco   \n",
       "36  Aliments et boissons à base de végétaux, Alime...   \n",
       "38  Viandes, Volailles, Poulets, Aiguillettes de p...   \n",
       "40  Plats préparés, Légumes préparés, Entrées, Ent...   \n",
       "65  Aliments et boissons à base de végétaux, Boiss...   \n",
       "66  Produits laitiers, Produits fermentés, Produit...   \n",
       "\n",
       "                                      categories_tags  \\\n",
       "6    en:groceries,en:condiments,en:sauces,en:mustards   \n",
       "7                                              fr:xsf   \n",
       "16                        en:marzipan,en:almond-paste   \n",
       "17  en:meals,en:prepared-vegetables,en:grated-carr...   \n",
       "26              en:pies,en:sweet-pies,en:coconut-pies   \n",
       "36  en:plant-based-foods-and-beverages,en:plant-ba...   \n",
       "38  en:meats,en:poultries,en:chickens,fr:aiguillet...   \n",
       "40  en:meals,en:prepared-vegetables,en:starters,en...   \n",
       "65  en:plant-based-foods-and-beverages,en:beverage...   \n",
       "66  en:dairies,en:fermented-foods,en:fermented-mil...   \n",
       "\n",
       "                                        categories_en  \n",
       "6                Groceries,Condiments,Sauces,Mustards  \n",
       "7                                              fr:xsf  \n",
       "16                              Marzipan,Almond paste  \n",
       "17  Meals,Prepared vegetables,Grated carrots,Seaso...  \n",
       "26                       Pies,Sweet pies,Coconut pies  \n",
       "36  Plant-based foods and beverages,Plant-based fo...  \n",
       "38  Meats,Poultries,Chickens,fr:Aiguillettes de po...  \n",
       "40  Meals,Prepared vegetables,Starters,Cold starte...  \n",
       "65  Plant-based foods and beverages,Beverages,Plan...  \n",
       "66  Dairies,Fermented foods,Fermented milk product...  "
      ]
     },
     "execution_count": 15,
     "metadata": {},
     "output_type": "execute_result"
    }
   ],
   "source": [
    "#Affichage des 10 premières lignes\n",
    "df[['categories', 'categories_tags', 'categories_en']].dropna(how='any').head(10)"
   ]
  },
  {
   "cell_type": "code",
   "execution_count": 16,
   "id": "9b2867de",
   "metadata": {},
   "outputs": [
    {
     "data": {
      "text/plain": [
       "categories                                                  categories_tags                                                                                                                                                                categories_en                                                                                                                                        \n",
       "Snacks                                                      en:snacks                                                                                                                                                                      Snacks                                                                                                                                                   32704\n",
       "Snacks, Sweet snacks, Confectioneries                       en:snacks,en:sweet-snacks,en:confectioneries                                                                                                                                   Snacks,Sweet snacks,Confectioneries                                                                                                                      14279\n",
       "Groceries, Sauces                                           en:groceries,en:sauces                                                                                                                                                         Groceries,Sauces                                                                                                                                         13851\n",
       "Dairies, Fermented foods, Fermented milk products, Cheeses  en:dairies,en:fermented-foods,en:fermented-milk-products,en:cheeses                                                                                                            Dairies,Fermented foods,Fermented milk products,Cheeses                                                                                                  11405\n",
       "Snacks, Sweet snacks, Biscuits and cakes, Biscuits          en:snacks,en:sweet-snacks,en:biscuits-and-cakes,en:biscuits                                                                                                                    Snacks,Sweet snacks,Biscuits and cakes,Biscuits                                                                                                          10102\n",
       "                                                                                                                                                                                                                                                                                                                                                                                                    ...  \n",
       "Manteiga soja                                               pt:manteiga-soja                                                                                                                                                               pt:manteiga-soja                                                                                                                                             1\n",
       "Mantegia                                                    pt:mantegia                                                                                                                                                                    pt:mantegia                                                                                                                                                  1\n",
       "Mantega de cacauet                                          en:plant-based-foods-and-beverages,en:plant-based-foods,en:legumes-and-their-products,en:spreads,en:plant-based-spreads,en:oilseed-purees,en:legume-butters,en:peanut-butters  Plant-based foods and beverages,Plant-based foods,Legumes and their products,Spreads,Plant-based spreads,Oilseed purees,Legume butters,Peanut butters        1\n",
       "Mantecas de frutos de cáscara                               en:plant-based-foods-and-beverages,en:plant-based-foods,en:spreads,en:nuts-and-their-products,en:plant-based-spreads,en:oilseed-purees,en:nut-butters                          Plant-based foods and beverages,Plant-based foods,Spreads,Nuts and their products,Plant-based spreads,Oilseed purees,Nut butters                             1\n",
       "🤬                                                           ro:🤬                                                                                                                                                                           ro:🤬                                                                                                                                                         1\n",
       "Length: 112892, dtype: int64"
      ]
     },
     "execution_count": 16,
     "metadata": {},
     "output_type": "execute_result"
    }
   ],
   "source": [
    "#Affichage de la répartiotions par valeur pour categories\n",
    "df[['categories', 'categories_tags', 'categories_en']].value_counts()"
   ]
  },
  {
   "cell_type": "code",
   "execution_count": 17,
   "id": "ab2bddca",
   "metadata": {},
   "outputs": [
    {
     "data": {
      "text/plain": [
       "categories         0.532718\n",
       "categories_tags    0.532720\n",
       "categories_en      0.532720\n",
       "dtype: float64"
      ]
     },
     "execution_count": 17,
     "metadata": {},
     "output_type": "execute_result"
    }
   ],
   "source": [
    "#A première vue, Categorie et Categories_en semblent les plus pertinents, vérification du taux de remplissage\n",
    "df[['categories', 'categories_tags', 'categories_en']].isna().mean()"
   ]
  },
  {
   "cell_type": "code",
   "execution_count": 18,
   "id": "71d2af27",
   "metadata": {},
   "outputs": [],
   "source": [
    "#categories présente moins de Nan, on supprimme les 2 autres\n",
    "cols_to_keep = cols_to_keep.drop(['categories_tags', 'categories_en'])"
   ]
  },
  {
   "cell_type": "markdown",
   "id": "6bb45d70",
   "metadata": {},
   "source": [
    "### <font color=\"grey\">C3. countries, countries_tags, countries_en</font>"
   ]
  },
  {
   "cell_type": "code",
   "execution_count": 19,
   "id": "2fee7173",
   "metadata": {},
   "outputs": [
    {
     "data": {
      "text/html": [
       "<div>\n",
       "<style scoped>\n",
       "    .dataframe tbody tr th:only-of-type {\n",
       "        vertical-align: middle;\n",
       "    }\n",
       "\n",
       "    .dataframe tbody tr th {\n",
       "        vertical-align: top;\n",
       "    }\n",
       "\n",
       "    .dataframe thead th {\n",
       "        text-align: right;\n",
       "    }\n",
       "</style>\n",
       "<table border=\"1\" class=\"dataframe\">\n",
       "  <thead>\n",
       "    <tr style=\"text-align: right;\">\n",
       "      <th></th>\n",
       "      <th>countries</th>\n",
       "      <th>countries_tags</th>\n",
       "      <th>countries_en</th>\n",
       "    </tr>\n",
       "  </thead>\n",
       "  <tbody>\n",
       "    <tr>\n",
       "      <th>0</th>\n",
       "      <td>en:france</td>\n",
       "      <td>en:france</td>\n",
       "      <td>France</td>\n",
       "    </tr>\n",
       "    <tr>\n",
       "      <th>1</th>\n",
       "      <td>Spain</td>\n",
       "      <td>en:spain</td>\n",
       "      <td>Spain</td>\n",
       "    </tr>\n",
       "    <tr>\n",
       "      <th>2</th>\n",
       "      <td>France</td>\n",
       "      <td>en:france</td>\n",
       "      <td>France</td>\n",
       "    </tr>\n",
       "    <tr>\n",
       "      <th>3</th>\n",
       "      <td>France</td>\n",
       "      <td>en:france</td>\n",
       "      <td>France</td>\n",
       "    </tr>\n",
       "    <tr>\n",
       "      <th>4</th>\n",
       "      <td>Espagne</td>\n",
       "      <td>en:spain</td>\n",
       "      <td>Spain</td>\n",
       "    </tr>\n",
       "    <tr>\n",
       "      <th>5</th>\n",
       "      <td>en:es</td>\n",
       "      <td>en:spain</td>\n",
       "      <td>Spain</td>\n",
       "    </tr>\n",
       "    <tr>\n",
       "      <th>6</th>\n",
       "      <td>France</td>\n",
       "      <td>en:france</td>\n",
       "      <td>France</td>\n",
       "    </tr>\n",
       "    <tr>\n",
       "      <th>7</th>\n",
       "      <td>en:France</td>\n",
       "      <td>en:france</td>\n",
       "      <td>France</td>\n",
       "    </tr>\n",
       "    <tr>\n",
       "      <th>8</th>\n",
       "      <td>France</td>\n",
       "      <td>en:france</td>\n",
       "      <td>France</td>\n",
       "    </tr>\n",
       "    <tr>\n",
       "      <th>9</th>\n",
       "      <td>France</td>\n",
       "      <td>en:france</td>\n",
       "      <td>France</td>\n",
       "    </tr>\n",
       "  </tbody>\n",
       "</table>\n",
       "</div>"
      ],
      "text/plain": [
       "   countries countries_tags countries_en\n",
       "0  en:france      en:france       France\n",
       "1      Spain       en:spain        Spain\n",
       "2     France      en:france       France\n",
       "3     France      en:france       France\n",
       "4    Espagne       en:spain        Spain\n",
       "5      en:es       en:spain        Spain\n",
       "6     France      en:france       France\n",
       "7  en:France      en:france       France\n",
       "8     France      en:france       France\n",
       "9     France      en:france       France"
      ]
     },
     "execution_count": 19,
     "metadata": {},
     "output_type": "execute_result"
    }
   ],
   "source": [
    "#Affichage des 10 premières lignes\n",
    "df[['countries', 'countries_tags', 'countries_en']].dropna(how='any').head(10)"
   ]
  },
  {
   "cell_type": "code",
   "execution_count": 20,
   "id": "1084f0bf",
   "metadata": {},
   "outputs": [
    {
     "data": {
      "text/plain": [
       "countries                              countries_tags                                       countries_en                           \n",
       "France                                 en:france                                            France                                     434521\n",
       "United States                          en:united-states                                     United States                              310422\n",
       "en:fr                                  en:france                                            France                                     203845\n",
       "en:es                                  en:spain                                             Spain                                      101490\n",
       "en:it                                  en:italy                                             Italy                                       91874\n",
       "                                                                                                                                        ...  \n",
       "Corea del Sur, México                  en:mexico,en:south-korea                             Mexico,South Korea                              1\n",
       "Fransa,Türkiye                         en:france,en:turkey                                  France,Turkey                                   1\n",
       "Fransa, Türkiye                        en:france,en:turkey                                  France,Turkey                                   1\n",
       "Fransa, Katar                          en:france,en:qatar                                   France,Qatar                                    1\n",
       "Francia,Alemania,Singapur,Reino Unido  en:france,en:germany,en:singapore,en:united-kingdom  France,Germany,Singapore,United Kingdom         1\n",
       "Length: 10946, dtype: int64"
      ]
     },
     "execution_count": 20,
     "metadata": {},
     "output_type": "execute_result"
    }
   ],
   "source": [
    "#Affichage de la répartitions par valeur\n",
    "df[['countries', 'countries_tags', 'countries_en']].value_counts()"
   ]
  },
  {
   "cell_type": "code",
   "execution_count": 21,
   "id": "db0b62e6",
   "metadata": {},
   "outputs": [
    {
     "data": {
      "text/plain": [
       "countries         0.003079\n",
       "countries_tags    0.003082\n",
       "countries_en      0.003082\n",
       "dtype: float64"
      ]
     },
     "execution_count": 21,
     "metadata": {},
     "output_type": "execute_result"
    }
   ],
   "source": [
    "#On remarque rapidement que countries_en est plus pertinent, vérifions tout de même le TDR\n",
    "df[['countries', 'countries_tags', 'countries_en']].isna().mean()"
   ]
  },
  {
   "cell_type": "code",
   "execution_count": 22,
   "id": "38e70f80",
   "metadata": {},
   "outputs": [],
   "source": [
    "#countries est le mieux rempli de très très peu, nous conservons countrie_en car plus pertinent\n",
    "cols_to_keep = cols_to_keep.drop(['countries', 'countries_tags'])"
   ]
  },
  {
   "cell_type": "markdown",
   "id": "68f34113",
   "metadata": {},
   "source": [
    "### <font color=\"grey\">C4. states, states_tags, states_en</font>"
   ]
  },
  {
   "cell_type": "code",
   "execution_count": 23,
   "id": "80ca47fa",
   "metadata": {},
   "outputs": [
    {
     "data": {
      "text/html": [
       "<div>\n",
       "<style scoped>\n",
       "    .dataframe tbody tr th:only-of-type {\n",
       "        vertical-align: middle;\n",
       "    }\n",
       "\n",
       "    .dataframe tbody tr th {\n",
       "        vertical-align: top;\n",
       "    }\n",
       "\n",
       "    .dataframe thead th {\n",
       "        text-align: right;\n",
       "    }\n",
       "</style>\n",
       "<table border=\"1\" class=\"dataframe\">\n",
       "  <thead>\n",
       "    <tr style=\"text-align: right;\">\n",
       "      <th></th>\n",
       "      <th>states</th>\n",
       "      <th>states_tags</th>\n",
       "      <th>states_en</th>\n",
       "    </tr>\n",
       "  </thead>\n",
       "  <tbody>\n",
       "    <tr>\n",
       "      <th>0</th>\n",
       "      <td>en:to-be-completed, en:nutrition-facts-to-be-c...</td>\n",
       "      <td>en:to-be-completed,en:nutrition-facts-to-be-co...</td>\n",
       "      <td>To be completed,Nutrition facts to be complete...</td>\n",
       "    </tr>\n",
       "    <tr>\n",
       "      <th>1</th>\n",
       "      <td>en:to-be-completed, en:nutrition-facts-complet...</td>\n",
       "      <td>en:to-be-completed,en:nutrition-facts-complete...</td>\n",
       "      <td>To be completed,Nutrition facts completed,Ingr...</td>\n",
       "    </tr>\n",
       "    <tr>\n",
       "      <th>2</th>\n",
       "      <td>en:to-be-completed, en:nutrition-facts-complet...</td>\n",
       "      <td>en:to-be-completed,en:nutrition-facts-complete...</td>\n",
       "      <td>To be completed,Nutrition facts completed,Ingr...</td>\n",
       "    </tr>\n",
       "    <tr>\n",
       "      <th>3</th>\n",
       "      <td>en:to-be-completed, en:nutrition-facts-to-be-c...</td>\n",
       "      <td>en:to-be-completed,en:nutrition-facts-to-be-co...</td>\n",
       "      <td>To be completed,Nutrition facts to be complete...</td>\n",
       "    </tr>\n",
       "    <tr>\n",
       "      <th>4</th>\n",
       "      <td>en:to-be-completed, en:nutrition-facts-complet...</td>\n",
       "      <td>en:to-be-completed,en:nutrition-facts-complete...</td>\n",
       "      <td>To be completed,Nutrition facts completed,Ingr...</td>\n",
       "    </tr>\n",
       "    <tr>\n",
       "      <th>5</th>\n",
       "      <td>en:to-be-completed, en:nutrition-facts-complet...</td>\n",
       "      <td>en:to-be-completed,en:nutrition-facts-complete...</td>\n",
       "      <td>To be completed,Nutrition facts completed,Ingr...</td>\n",
       "    </tr>\n",
       "    <tr>\n",
       "      <th>6</th>\n",
       "      <td>en:to-be-completed, en:nutrition-facts-complet...</td>\n",
       "      <td>en:to-be-completed,en:nutrition-facts-complete...</td>\n",
       "      <td>To be completed,Nutrition facts completed,Ingr...</td>\n",
       "    </tr>\n",
       "    <tr>\n",
       "      <th>7</th>\n",
       "      <td>en:to-be-completed, en:nutrition-facts-to-be-c...</td>\n",
       "      <td>en:to-be-completed,en:nutrition-facts-to-be-co...</td>\n",
       "      <td>To be completed,Nutrition facts to be complete...</td>\n",
       "    </tr>\n",
       "    <tr>\n",
       "      <th>8</th>\n",
       "      <td>en:to-be-completed, en:nutrition-facts-complet...</td>\n",
       "      <td>en:to-be-completed,en:nutrition-facts-complete...</td>\n",
       "      <td>To be completed,Nutrition facts completed,Ingr...</td>\n",
       "    </tr>\n",
       "    <tr>\n",
       "      <th>9</th>\n",
       "      <td>en:to-be-completed, en:nutrition-facts-complet...</td>\n",
       "      <td>en:to-be-completed,en:nutrition-facts-complete...</td>\n",
       "      <td>To be completed,Nutrition facts completed,Ingr...</td>\n",
       "    </tr>\n",
       "  </tbody>\n",
       "</table>\n",
       "</div>"
      ],
      "text/plain": [
       "                                              states  \\\n",
       "0  en:to-be-completed, en:nutrition-facts-to-be-c...   \n",
       "1  en:to-be-completed, en:nutrition-facts-complet...   \n",
       "2  en:to-be-completed, en:nutrition-facts-complet...   \n",
       "3  en:to-be-completed, en:nutrition-facts-to-be-c...   \n",
       "4  en:to-be-completed, en:nutrition-facts-complet...   \n",
       "5  en:to-be-completed, en:nutrition-facts-complet...   \n",
       "6  en:to-be-completed, en:nutrition-facts-complet...   \n",
       "7  en:to-be-completed, en:nutrition-facts-to-be-c...   \n",
       "8  en:to-be-completed, en:nutrition-facts-complet...   \n",
       "9  en:to-be-completed, en:nutrition-facts-complet...   \n",
       "\n",
       "                                         states_tags  \\\n",
       "0  en:to-be-completed,en:nutrition-facts-to-be-co...   \n",
       "1  en:to-be-completed,en:nutrition-facts-complete...   \n",
       "2  en:to-be-completed,en:nutrition-facts-complete...   \n",
       "3  en:to-be-completed,en:nutrition-facts-to-be-co...   \n",
       "4  en:to-be-completed,en:nutrition-facts-complete...   \n",
       "5  en:to-be-completed,en:nutrition-facts-complete...   \n",
       "6  en:to-be-completed,en:nutrition-facts-complete...   \n",
       "7  en:to-be-completed,en:nutrition-facts-to-be-co...   \n",
       "8  en:to-be-completed,en:nutrition-facts-complete...   \n",
       "9  en:to-be-completed,en:nutrition-facts-complete...   \n",
       "\n",
       "                                           states_en  \n",
       "0  To be completed,Nutrition facts to be complete...  \n",
       "1  To be completed,Nutrition facts completed,Ingr...  \n",
       "2  To be completed,Nutrition facts completed,Ingr...  \n",
       "3  To be completed,Nutrition facts to be complete...  \n",
       "4  To be completed,Nutrition facts completed,Ingr...  \n",
       "5  To be completed,Nutrition facts completed,Ingr...  \n",
       "6  To be completed,Nutrition facts completed,Ingr...  \n",
       "7  To be completed,Nutrition facts to be complete...  \n",
       "8  To be completed,Nutrition facts completed,Ingr...  \n",
       "9  To be completed,Nutrition facts completed,Ingr...  "
      ]
     },
     "execution_count": 23,
     "metadata": {},
     "output_type": "execute_result"
    }
   ],
   "source": [
    "#Affichage des 10 premières lignes\n",
    "df[['states', 'states_tags', 'states_en']].dropna(how='any').head(10)"
   ]
  },
  {
   "cell_type": "code",
   "execution_count": 24,
   "id": "229799d7",
   "metadata": {},
   "outputs": [],
   "source": [
    "# Les variables d'etat semble peu pertinante, utilisées pour du traitement \"administratif\", on les supprimmes\n",
    "cols_to_keep = cols_to_keep.drop(['states', 'states_tags', 'states_en'])"
   ]
  },
  {
   "cell_type": "markdown",
   "id": "bf55a53e",
   "metadata": {},
   "source": [
    "### <font color=\"grey\">C5. main_category, main_category_en</font>"
   ]
  },
  {
   "cell_type": "code",
   "execution_count": 25,
   "id": "8e2cb6e8",
   "metadata": {},
   "outputs": [
    {
     "data": {
      "text/html": [
       "<div>\n",
       "<style scoped>\n",
       "    .dataframe tbody tr th:only-of-type {\n",
       "        vertical-align: middle;\n",
       "    }\n",
       "\n",
       "    .dataframe tbody tr th {\n",
       "        vertical-align: top;\n",
       "    }\n",
       "\n",
       "    .dataframe thead th {\n",
       "        text-align: right;\n",
       "    }\n",
       "</style>\n",
       "<table border=\"1\" class=\"dataframe\">\n",
       "  <thead>\n",
       "    <tr style=\"text-align: right;\">\n",
       "      <th></th>\n",
       "      <th>main_category</th>\n",
       "      <th>main_category_en</th>\n",
       "    </tr>\n",
       "  </thead>\n",
       "  <tbody>\n",
       "    <tr>\n",
       "      <th>6</th>\n",
       "      <td>en:mustards</td>\n",
       "      <td>Mustards</td>\n",
       "    </tr>\n",
       "    <tr>\n",
       "      <th>7</th>\n",
       "      <td>fr:xsf</td>\n",
       "      <td>fr:xsf</td>\n",
       "    </tr>\n",
       "    <tr>\n",
       "      <th>16</th>\n",
       "      <td>en:almond-paste</td>\n",
       "      <td>Almond paste</td>\n",
       "    </tr>\n",
       "    <tr>\n",
       "      <th>17</th>\n",
       "      <td>en:seasoned-shredded-carrots</td>\n",
       "      <td>Seasoned shredded carrots</td>\n",
       "    </tr>\n",
       "    <tr>\n",
       "      <th>26</th>\n",
       "      <td>en:coconut-pies</td>\n",
       "      <td>Coconut pies</td>\n",
       "    </tr>\n",
       "    <tr>\n",
       "      <th>36</th>\n",
       "      <td>en:pear-compotes</td>\n",
       "      <td>Pear compotes</td>\n",
       "    </tr>\n",
       "    <tr>\n",
       "      <th>38</th>\n",
       "      <td>fr:aiguillettes-de-poulet</td>\n",
       "      <td>fr:Aiguillettes de poulet</td>\n",
       "    </tr>\n",
       "    <tr>\n",
       "      <th>40</th>\n",
       "      <td>en:vegetables-macedoines</td>\n",
       "      <td>Vegetables macedoines</td>\n",
       "    </tr>\n",
       "    <tr>\n",
       "      <th>65</th>\n",
       "      <td>en:juices-and-nectars</td>\n",
       "      <td>Juices and nectars</td>\n",
       "    </tr>\n",
       "    <tr>\n",
       "      <th>66</th>\n",
       "      <td>en:abondance</td>\n",
       "      <td>Abondance</td>\n",
       "    </tr>\n",
       "  </tbody>\n",
       "</table>\n",
       "</div>"
      ],
      "text/plain": [
       "                   main_category           main_category_en\n",
       "6                    en:mustards                   Mustards\n",
       "7                         fr:xsf                     fr:xsf\n",
       "16               en:almond-paste               Almond paste\n",
       "17  en:seasoned-shredded-carrots  Seasoned shredded carrots\n",
       "26               en:coconut-pies               Coconut pies\n",
       "36              en:pear-compotes              Pear compotes\n",
       "38     fr:aiguillettes-de-poulet  fr:Aiguillettes de poulet\n",
       "40      en:vegetables-macedoines      Vegetables macedoines\n",
       "65         en:juices-and-nectars         Juices and nectars\n",
       "66                  en:abondance                  Abondance"
      ]
     },
     "execution_count": 25,
     "metadata": {},
     "output_type": "execute_result"
    }
   ],
   "source": [
    "#Affichage des 10 premières lignes\n",
    "df[['main_category', 'main_category_en']].dropna(how='any').head(10)"
   ]
  },
  {
   "cell_type": "code",
   "execution_count": 26,
   "id": "0270b3d4",
   "metadata": {},
   "outputs": [
    {
     "data": {
      "text/plain": [
       "main_category                  main_category_en             \n",
       "en:snacks                      Snacks                           32945\n",
       "en:sauces                      Sauces                           16239\n",
       "en:confectioneries             Confectioneries                  15463\n",
       "en:biscuits                    Biscuits                         15424\n",
       "en:cheeses                     Cheeses                          15053\n",
       "                                                                ...  \n",
       "es:dmmfmcmc                    es:dmmfmcmc                          1\n",
       "es:diperz                      es:diperz                            1\n",
       "es:dip-de-garbanzo-y-ajonjoli  es:dip-de-garbanzo-y-ajonjoli        1\n",
       "es:dip-con-sabor-chipotle      es:dip-con-sabor-chipotle            1\n",
       "zh:餅乾及蛋糕                       zh:餅乾及蛋糕                             1\n",
       "Length: 31978, dtype: int64"
      ]
     },
     "execution_count": 26,
     "metadata": {},
     "output_type": "execute_result"
    }
   ],
   "source": [
    "#Affichage de la répartitions par valeur\n",
    "df[['main_category', 'main_category_en']].value_counts()"
   ]
  },
  {
   "cell_type": "code",
   "execution_count": 27,
   "id": "ee35c1aa",
   "metadata": {},
   "outputs": [],
   "source": [
    "#On conserve donc main_category_en qui parait plus pertinant\n",
    "cols_to_keep = cols_to_keep.drop(\"main_category\")"
   ]
  },
  {
   "cell_type": "markdown",
   "id": "00901ef5",
   "metadata": {},
   "source": [
    "### <font color=\"grey\">C6. categories, pnns_group_1, pnns_group_2 & main_category_en</font>"
   ]
  },
  {
   "cell_type": "code",
   "execution_count": 28,
   "id": "274ef819",
   "metadata": {},
   "outputs": [
    {
     "data": {
      "text/html": [
       "<div>\n",
       "<style scoped>\n",
       "    .dataframe tbody tr th:only-of-type {\n",
       "        vertical-align: middle;\n",
       "    }\n",
       "\n",
       "    .dataframe tbody tr th {\n",
       "        vertical-align: top;\n",
       "    }\n",
       "\n",
       "    .dataframe thead th {\n",
       "        text-align: right;\n",
       "    }\n",
       "</style>\n",
       "<table border=\"1\" class=\"dataframe\">\n",
       "  <thead>\n",
       "    <tr style=\"text-align: right;\">\n",
       "      <th></th>\n",
       "      <th>categories</th>\n",
       "      <th>pnns_groups_1</th>\n",
       "      <th>pnns_groups_2</th>\n",
       "      <th>main_category_en</th>\n",
       "    </tr>\n",
       "  </thead>\n",
       "  <tbody>\n",
       "    <tr>\n",
       "      <th>6</th>\n",
       "      <td>Epicerie, Condiments, Sauces, Moutardes</td>\n",
       "      <td>Fat and sauces</td>\n",
       "      <td>Dressings and sauces</td>\n",
       "      <td>Mustards</td>\n",
       "    </tr>\n",
       "    <tr>\n",
       "      <th>7</th>\n",
       "      <td>Xsf</td>\n",
       "      <td>unknown</td>\n",
       "      <td>unknown</td>\n",
       "      <td>fr:xsf</td>\n",
       "    </tr>\n",
       "    <tr>\n",
       "      <th>16</th>\n",
       "      <td>Pâtes d'amande</td>\n",
       "      <td>unknown</td>\n",
       "      <td>unknown</td>\n",
       "      <td>Almond paste</td>\n",
       "    </tr>\n",
       "    <tr>\n",
       "      <th>17</th>\n",
       "      <td>Plats préparés, Légumes préparés, Carottes râp...</td>\n",
       "      <td>Composite foods</td>\n",
       "      <td>One-dish meals</td>\n",
       "      <td>Seasoned shredded carrots</td>\n",
       "    </tr>\n",
       "    <tr>\n",
       "      <th>26</th>\n",
       "      <td>Tartes, Tartes sucrées, Tartes à la noix de coco</td>\n",
       "      <td>Sugary snacks</td>\n",
       "      <td>Biscuits and cakes</td>\n",
       "      <td>Coconut pies</td>\n",
       "    </tr>\n",
       "    <tr>\n",
       "      <th>36</th>\n",
       "      <td>Aliments et boissons à base de végétaux, Alime...</td>\n",
       "      <td>Fruits and vegetables</td>\n",
       "      <td>Fruits</td>\n",
       "      <td>Pear compotes</td>\n",
       "    </tr>\n",
       "    <tr>\n",
       "      <th>38</th>\n",
       "      <td>Viandes, Volailles, Poulets, Aiguillettes de p...</td>\n",
       "      <td>Fish Meat Eggs</td>\n",
       "      <td>Meat</td>\n",
       "      <td>fr:Aiguillettes de poulet</td>\n",
       "    </tr>\n",
       "    <tr>\n",
       "      <th>40</th>\n",
       "      <td>Plats préparés, Légumes préparés, Entrées, Ent...</td>\n",
       "      <td>Composite foods</td>\n",
       "      <td>One-dish meals</td>\n",
       "      <td>Vegetables macedoines</td>\n",
       "    </tr>\n",
       "    <tr>\n",
       "      <th>65</th>\n",
       "      <td>Aliments et boissons à base de végétaux, Boiss...</td>\n",
       "      <td>Beverages</td>\n",
       "      <td>Sweetened beverages</td>\n",
       "      <td>Juices and nectars</td>\n",
       "    </tr>\n",
       "    <tr>\n",
       "      <th>66</th>\n",
       "      <td>Produits laitiers, Produits fermentés, Produit...</td>\n",
       "      <td>Milk and dairy products</td>\n",
       "      <td>Cheese</td>\n",
       "      <td>Abondance</td>\n",
       "    </tr>\n",
       "    <tr>\n",
       "      <th>68</th>\n",
       "      <td>Viandes, Volailles, Poulets, Cuisses de poulet</td>\n",
       "      <td>Fish Meat Eggs</td>\n",
       "      <td>Meat</td>\n",
       "      <td>Chicken thighs</td>\n",
       "    </tr>\n",
       "    <tr>\n",
       "      <th>69</th>\n",
       "      <td>Aliments et boissons à base de végétaux, Alime...</td>\n",
       "      <td>Cereals and potatoes</td>\n",
       "      <td>Bread</td>\n",
       "      <td>Bagel breads</td>\n",
       "    </tr>\n",
       "    <tr>\n",
       "      <th>72</th>\n",
       "      <td>Aliments et boissons à base de végétaux, Alime...</td>\n",
       "      <td>Cereals and potatoes</td>\n",
       "      <td>Bread</td>\n",
       "      <td>Baguettes</td>\n",
       "    </tr>\n",
       "    <tr>\n",
       "      <th>74</th>\n",
       "      <td>Produits de la mer, Poissons, Saumons, Poisson...</td>\n",
       "      <td>Fish Meat Eggs</td>\n",
       "      <td>Fish and seafood</td>\n",
       "      <td>fr:paves-de-saumon-fume</td>\n",
       "    </tr>\n",
       "    <tr>\n",
       "      <th>76</th>\n",
       "      <td>Conserves, Viandes, Plats préparés, Produits à...</td>\n",
       "      <td>Composite foods</td>\n",
       "      <td>One-dish meals</td>\n",
       "      <td>Corned-beef</td>\n",
       "    </tr>\n",
       "  </tbody>\n",
       "</table>\n",
       "</div>"
      ],
      "text/plain": [
       "                                           categories  \\\n",
       "6             Epicerie, Condiments, Sauces, Moutardes   \n",
       "7                                                 Xsf   \n",
       "16                                     Pâtes d'amande   \n",
       "17  Plats préparés, Légumes préparés, Carottes râp...   \n",
       "26   Tartes, Tartes sucrées, Tartes à la noix de coco   \n",
       "36  Aliments et boissons à base de végétaux, Alime...   \n",
       "38  Viandes, Volailles, Poulets, Aiguillettes de p...   \n",
       "40  Plats préparés, Légumes préparés, Entrées, Ent...   \n",
       "65  Aliments et boissons à base de végétaux, Boiss...   \n",
       "66  Produits laitiers, Produits fermentés, Produit...   \n",
       "68     Viandes, Volailles, Poulets, Cuisses de poulet   \n",
       "69  Aliments et boissons à base de végétaux, Alime...   \n",
       "72  Aliments et boissons à base de végétaux, Alime...   \n",
       "74  Produits de la mer, Poissons, Saumons, Poisson...   \n",
       "76  Conserves, Viandes, Plats préparés, Produits à...   \n",
       "\n",
       "              pnns_groups_1         pnns_groups_2           main_category_en  \n",
       "6            Fat and sauces  Dressings and sauces                   Mustards  \n",
       "7                   unknown               unknown                     fr:xsf  \n",
       "16                  unknown               unknown               Almond paste  \n",
       "17          Composite foods        One-dish meals  Seasoned shredded carrots  \n",
       "26            Sugary snacks    Biscuits and cakes               Coconut pies  \n",
       "36    Fruits and vegetables                Fruits              Pear compotes  \n",
       "38           Fish Meat Eggs                  Meat  fr:Aiguillettes de poulet  \n",
       "40          Composite foods        One-dish meals      Vegetables macedoines  \n",
       "65                Beverages   Sweetened beverages         Juices and nectars  \n",
       "66  Milk and dairy products                Cheese                  Abondance  \n",
       "68           Fish Meat Eggs                  Meat             Chicken thighs  \n",
       "69     Cereals and potatoes                 Bread               Bagel breads  \n",
       "72     Cereals and potatoes                 Bread                  Baguettes  \n",
       "74           Fish Meat Eggs      Fish and seafood    fr:paves-de-saumon-fume  \n",
       "76          Composite foods        One-dish meals                Corned-beef  "
      ]
     },
     "execution_count": 28,
     "metadata": {},
     "output_type": "execute_result"
    }
   ],
   "source": [
    "#Plusieurs variables semblent présenter le même type d'information de categorie, affichons les\n",
    "df[['categories','pnns_groups_1', 'pnns_groups_2','main_category_en']].dropna(how=\"any\").head(15)"
   ]
  },
  {
   "cell_type": "code",
   "execution_count": 29,
   "id": "00143ad4",
   "metadata": {},
   "outputs": [
    {
     "data": {
      "text/plain": [
       "categories          0.532718\n",
       "main_category_en    0.532720\n",
       "pnns_groups_1       0.000073\n",
       "pnns_groups_2       0.000072\n",
       "dtype: float64"
      ]
     },
     "execution_count": 29,
     "metadata": {},
     "output_type": "execute_result"
    }
   ],
   "source": [
    "#Vérifions en premier lieu le taux de remplissage\n",
    "df[['categories','main_category_en','pnns_groups_1', 'pnns_groups_2']].isna().mean()"
   ]
  },
  {
   "cell_type": "code",
   "execution_count": 30,
   "id": "70b03fec",
   "metadata": {},
   "outputs": [
    {
     "data": {
      "text/plain": [
       "unknown                    1228320\n",
       "Sugary snacks               156662\n",
       "Fish Meat Eggs              106638\n",
       "Milk and dairy products      94203\n",
       "Cereals and potatoes         86379\n",
       "Fat and sauces               73228\n",
       "Beverages                    71431\n",
       "Fruits and vegetables        58801\n",
       "Composite foods              56562\n",
       "Salty snacks                 34700\n",
       "Alcoholic beverages          18004\n",
       "sugary-snacks                    2\n",
       "Name: pnns_groups_1, dtype: int64"
      ]
     },
     "execution_count": 30,
     "metadata": {},
     "output_type": "execute_result"
    }
   ],
   "source": [
    "#pnns_groups_1 et 2 présente peu de Nan, mais attention, \n",
    "#il y a beaucoup de valeur Unknown (ce qui revient au même qu'un Nan), vérifions\n",
    "df['pnns_groups_1'].value_counts()"
   ]
  },
  {
   "cell_type": "code",
   "execution_count": 31,
   "id": "c826517b",
   "metadata": {},
   "outputs": [
    {
     "data": {
      "text/plain": [
       "0.6188228300242326"
      ]
     },
     "execution_count": 31,
     "metadata": {},
     "output_type": "execute_result"
    }
   ],
   "source": [
    "#taux de unknown pour pnn_group_1\n",
    "df[df['pnns_groups_1'] == \"unknown\"].count()['pnns_groups_1']/df['pnns_groups_1'].count()"
   ]
  },
  {
   "cell_type": "code",
   "execution_count": 32,
   "id": "ec2d4d73",
   "metadata": {},
   "outputs": [
    {
     "data": {
      "text/plain": [
       "0.6188222065037996"
      ]
     },
     "execution_count": 32,
     "metadata": {},
     "output_type": "execute_result"
    }
   ],
   "source": [
    "#taux de unknown pour pnn_group_1\n",
    "df[df['pnns_groups_2'] == \"unknown\"].count()['pnns_groups_2']/df['pnns_groups_2'].count()"
   ]
  },
  {
   "cell_type": "code",
   "execution_count": 33,
   "id": "754ad131",
   "metadata": {},
   "outputs": [
    {
     "data": {
      "text/html": [
       "<div>\n",
       "<style scoped>\n",
       "    .dataframe tbody tr th:only-of-type {\n",
       "        vertical-align: middle;\n",
       "    }\n",
       "\n",
       "    .dataframe tbody tr th {\n",
       "        vertical-align: top;\n",
       "    }\n",
       "\n",
       "    .dataframe thead th {\n",
       "        text-align: right;\n",
       "    }\n",
       "</style>\n",
       "<table border=\"1\" class=\"dataframe\">\n",
       "  <thead>\n",
       "    <tr style=\"text-align: right;\">\n",
       "      <th></th>\n",
       "      <th>main_category_en</th>\n",
       "      <th>pnns_groups_1</th>\n",
       "      <th>pnns_groups_2</th>\n",
       "    </tr>\n",
       "  </thead>\n",
       "  <tbody>\n",
       "    <tr>\n",
       "      <th>6</th>\n",
       "      <td>Mustards</td>\n",
       "      <td>Fat and sauces</td>\n",
       "      <td>Dressings and sauces</td>\n",
       "    </tr>\n",
       "    <tr>\n",
       "      <th>17</th>\n",
       "      <td>Seasoned shredded carrots</td>\n",
       "      <td>Composite foods</td>\n",
       "      <td>One-dish meals</td>\n",
       "    </tr>\n",
       "    <tr>\n",
       "      <th>26</th>\n",
       "      <td>Coconut pies</td>\n",
       "      <td>Sugary snacks</td>\n",
       "      <td>Biscuits and cakes</td>\n",
       "    </tr>\n",
       "    <tr>\n",
       "      <th>36</th>\n",
       "      <td>Pear compotes</td>\n",
       "      <td>Fruits and vegetables</td>\n",
       "      <td>Fruits</td>\n",
       "    </tr>\n",
       "    <tr>\n",
       "      <th>38</th>\n",
       "      <td>fr:Aiguillettes de poulet</td>\n",
       "      <td>Fish Meat Eggs</td>\n",
       "      <td>Meat</td>\n",
       "    </tr>\n",
       "    <tr>\n",
       "      <th>40</th>\n",
       "      <td>Vegetables macedoines</td>\n",
       "      <td>Composite foods</td>\n",
       "      <td>One-dish meals</td>\n",
       "    </tr>\n",
       "    <tr>\n",
       "      <th>65</th>\n",
       "      <td>Juices and nectars</td>\n",
       "      <td>Beverages</td>\n",
       "      <td>Sweetened beverages</td>\n",
       "    </tr>\n",
       "    <tr>\n",
       "      <th>66</th>\n",
       "      <td>Abondance</td>\n",
       "      <td>Milk and dairy products</td>\n",
       "      <td>Cheese</td>\n",
       "    </tr>\n",
       "    <tr>\n",
       "      <th>68</th>\n",
       "      <td>Chicken thighs</td>\n",
       "      <td>Fish Meat Eggs</td>\n",
       "      <td>Meat</td>\n",
       "    </tr>\n",
       "    <tr>\n",
       "      <th>69</th>\n",
       "      <td>Bagel breads</td>\n",
       "      <td>Cereals and potatoes</td>\n",
       "      <td>Bread</td>\n",
       "    </tr>\n",
       "    <tr>\n",
       "      <th>72</th>\n",
       "      <td>Baguettes</td>\n",
       "      <td>Cereals and potatoes</td>\n",
       "      <td>Bread</td>\n",
       "    </tr>\n",
       "    <tr>\n",
       "      <th>74</th>\n",
       "      <td>fr:paves-de-saumon-fume</td>\n",
       "      <td>Fish Meat Eggs</td>\n",
       "      <td>Fish and seafood</td>\n",
       "    </tr>\n",
       "    <tr>\n",
       "      <th>76</th>\n",
       "      <td>Corned-beef</td>\n",
       "      <td>Composite foods</td>\n",
       "      <td>One-dish meals</td>\n",
       "    </tr>\n",
       "    <tr>\n",
       "      <th>78</th>\n",
       "      <td>Cheeses</td>\n",
       "      <td>Milk and dairy products</td>\n",
       "      <td>Cheese</td>\n",
       "    </tr>\n",
       "    <tr>\n",
       "      <th>79</th>\n",
       "      <td>Thyme honeys</td>\n",
       "      <td>Sugary snacks</td>\n",
       "      <td>Sweets</td>\n",
       "    </tr>\n",
       "  </tbody>\n",
       "</table>\n",
       "</div>"
      ],
      "text/plain": [
       "             main_category_en            pnns_groups_1         pnns_groups_2\n",
       "6                    Mustards           Fat and sauces  Dressings and sauces\n",
       "17  Seasoned shredded carrots          Composite foods        One-dish meals\n",
       "26               Coconut pies            Sugary snacks    Biscuits and cakes\n",
       "36              Pear compotes    Fruits and vegetables                Fruits\n",
       "38  fr:Aiguillettes de poulet           Fish Meat Eggs                  Meat\n",
       "40      Vegetables macedoines          Composite foods        One-dish meals\n",
       "65         Juices and nectars                Beverages   Sweetened beverages\n",
       "66                  Abondance  Milk and dairy products                Cheese\n",
       "68             Chicken thighs           Fish Meat Eggs                  Meat\n",
       "69               Bagel breads     Cereals and potatoes                 Bread\n",
       "72                  Baguettes     Cereals and potatoes                 Bread\n",
       "74    fr:paves-de-saumon-fume           Fish Meat Eggs      Fish and seafood\n",
       "76                Corned-beef          Composite foods        One-dish meals\n",
       "78                    Cheeses  Milk and dairy products                Cheese\n",
       "79               Thyme honeys            Sugary snacks                Sweets"
      ]
     },
     "execution_count": 33,
     "metadata": {},
     "output_type": "execute_result"
    }
   ],
   "source": [
    "#visualisons nos colonnes sans les individus qui comporte \"unknown\"\n",
    "pnns_groups_1_sans_unknown = df['pnns_groups_1'] != \"unknown\"\n",
    "pnns_groups_2_sans_unknown = df['pnns_groups_2'] != \"unknown\"\n",
    "df_no_uknown_pnn = df[pnns_groups_1_sans_unknown & pnns_groups_2_sans_unknown]\n",
    "df_no_uknown_pnn[['main_category_en','pnns_groups_1', 'pnns_groups_2']].head(15)"
   ]
  },
  {
   "cell_type": "code",
   "execution_count": 34,
   "id": "4c0f4963",
   "metadata": {},
   "outputs": [
    {
     "data": {
      "text/plain": [
       "main_category_en    0.000188\n",
       "pnns_groups_1       0.000190\n",
       "pnns_groups_2       0.000188\n",
       "dtype: float64"
      ]
     },
     "execution_count": 34,
     "metadata": {},
     "output_type": "execute_result"
    }
   ],
   "source": [
    "#vérifions le taux de remplissage\n",
    "df_no_uknown_pnn[['main_category_en','pnns_groups_1', 'pnns_groups_2']].isna().mean()"
   ]
  },
  {
   "cell_type": "code",
   "execution_count": 35,
   "id": "07403a70",
   "metadata": {},
   "outputs": [
    {
     "name": "stdout",
     "output_type": "stream",
     "text": [
      "main_category_en : 31979 |  pnns_groups_1 : 13 |  pnns_groups_2 : 43\n"
     ]
    }
   ],
   "source": [
    "# les catégories semblent présenter une \"correlation\" de remplissage\n",
    "#vérifions le nombre de valeur uniques\n",
    "print(\"main_category_en :\",len(df['main_category_en'].unique()),\n",
    "      \"|  pnns_groups_1 :\",len(df['pnns_groups_1'].unique()),\n",
    "      \"|  pnns_groups_2 :\",len(df['pnns_groups_2'].unique()))"
   ]
  },
  {
   "cell_type": "code",
   "execution_count": 36,
   "id": "4fca0895",
   "metadata": {},
   "outputs": [],
   "source": [
    "#beaucoup trop de valeurs uniques sont présentes dans main_category_en, \n",
    "#pour la suite nous allons conserver pnns_groups_1 et pnns_groups_2\n",
    "cols_to_keep = cols_to_keep.drop(['main_category_en','categories'])"
   ]
  },
  {
   "cell_type": "markdown",
   "id": "c5225d7d",
   "metadata": {},
   "source": [
    "### <font color=\"grey\">C7. energy-kcal_100g & energy_100g</font>"
   ]
  },
  {
   "cell_type": "code",
   "execution_count": 37,
   "id": "79dcc8b6",
   "metadata": {},
   "outputs": [
    {
     "data": {
      "text/html": [
       "<div>\n",
       "<style scoped>\n",
       "    .dataframe tbody tr th:only-of-type {\n",
       "        vertical-align: middle;\n",
       "    }\n",
       "\n",
       "    .dataframe tbody tr th {\n",
       "        vertical-align: top;\n",
       "    }\n",
       "\n",
       "    .dataframe thead th {\n",
       "        text-align: right;\n",
       "    }\n",
       "</style>\n",
       "<table border=\"1\" class=\"dataframe\">\n",
       "  <thead>\n",
       "    <tr style=\"text-align: right;\">\n",
       "      <th></th>\n",
       "      <th>energy-kcal_100g</th>\n",
       "      <th>energy_100g</th>\n",
       "    </tr>\n",
       "  </thead>\n",
       "  <tbody>\n",
       "    <tr>\n",
       "      <th>2</th>\n",
       "      <td>375.0</td>\n",
       "      <td>1569.0</td>\n",
       "    </tr>\n",
       "    <tr>\n",
       "      <th>4</th>\n",
       "      <td>163.9</td>\n",
       "      <td>685.8</td>\n",
       "    </tr>\n",
       "    <tr>\n",
       "      <th>5</th>\n",
       "      <td>874.9</td>\n",
       "      <td>3661.0</td>\n",
       "    </tr>\n",
       "    <tr>\n",
       "      <th>8</th>\n",
       "      <td>21.0</td>\n",
       "      <td>88.0</td>\n",
       "    </tr>\n",
       "    <tr>\n",
       "      <th>9</th>\n",
       "      <td>60.0</td>\n",
       "      <td>251.0</td>\n",
       "    </tr>\n",
       "    <tr>\n",
       "      <th>15</th>\n",
       "      <td>63.0</td>\n",
       "      <td>264.0</td>\n",
       "    </tr>\n",
       "    <tr>\n",
       "      <th>17</th>\n",
       "      <td>32.0</td>\n",
       "      <td>134.0</td>\n",
       "    </tr>\n",
       "    <tr>\n",
       "      <th>18</th>\n",
       "      <td>129.0</td>\n",
       "      <td>540.0</td>\n",
       "    </tr>\n",
       "    <tr>\n",
       "      <th>21</th>\n",
       "      <td>73.0</td>\n",
       "      <td>305.0</td>\n",
       "    </tr>\n",
       "    <tr>\n",
       "      <th>22</th>\n",
       "      <td>222.0</td>\n",
       "      <td>929.0</td>\n",
       "    </tr>\n",
       "  </tbody>\n",
       "</table>\n",
       "</div>"
      ],
      "text/plain": [
       "    energy-kcal_100g  energy_100g\n",
       "2              375.0       1569.0\n",
       "4              163.9        685.8\n",
       "5              874.9       3661.0\n",
       "8               21.0         88.0\n",
       "9               60.0        251.0\n",
       "15              63.0        264.0\n",
       "17              32.0        134.0\n",
       "18             129.0        540.0\n",
       "21              73.0        305.0\n",
       "22             222.0        929.0"
      ]
     },
     "execution_count": 37,
     "metadata": {},
     "output_type": "execute_result"
    }
   ],
   "source": [
    "#Les variables 'energy-kcal_100g' et 'energy_100g' semblent présenter la même information, vérifions\n",
    "df[['energy-kcal_100g','energy_100g']].dropna(how=\"any\").head(10)"
   ]
  },
  {
   "cell_type": "code",
   "execution_count": 38,
   "id": "a428b09a",
   "metadata": {},
   "outputs": [],
   "source": [
    "#On remarque rapidement que 'energy_100g' = 4.184 * \"energy-kcal_100g\". \n",
    "#Il est donc inutile de conserver ces 2 variables\n",
    "#Pour la suite nous allons conserver energy_kcal_100g (car plus courant, \n",
    "#attention l'unité est le kcal et non le gramme\n",
    "cols_to_keep = cols_to_keep.drop(['energy_100g'])"
   ]
  },
  {
   "cell_type": "markdown",
   "id": "ad460d00",
   "metadata": {},
   "source": [
    "### <font color=\"grey\">C8. nutrition-score-fr_100g, nutrition_score & nutriscore_grade</font>"
   ]
  },
  {
   "cell_type": "code",
   "execution_count": 39,
   "id": "44b52a17",
   "metadata": {},
   "outputs": [
    {
     "data": {
      "text/html": [
       "<div>\n",
       "<style scoped>\n",
       "    .dataframe tbody tr th:only-of-type {\n",
       "        vertical-align: middle;\n",
       "    }\n",
       "\n",
       "    .dataframe tbody tr th {\n",
       "        vertical-align: top;\n",
       "    }\n",
       "\n",
       "    .dataframe thead th {\n",
       "        text-align: right;\n",
       "    }\n",
       "</style>\n",
       "<table border=\"1\" class=\"dataframe\">\n",
       "  <thead>\n",
       "    <tr style=\"text-align: right;\">\n",
       "      <th></th>\n",
       "      <th>nutrition-score-fr_100g</th>\n",
       "      <th>nutriscore_score</th>\n",
       "      <th>nutriscore_grade</th>\n",
       "    </tr>\n",
       "  </thead>\n",
       "  <tbody>\n",
       "    <tr>\n",
       "      <th>6</th>\n",
       "      <td>18.0</td>\n",
       "      <td>18.0</td>\n",
       "      <td>d</td>\n",
       "    </tr>\n",
       "    <tr>\n",
       "      <th>17</th>\n",
       "      <td>1.0</td>\n",
       "      <td>1.0</td>\n",
       "      <td>b</td>\n",
       "    </tr>\n",
       "    <tr>\n",
       "      <th>26</th>\n",
       "      <td>14.0</td>\n",
       "      <td>14.0</td>\n",
       "      <td>d</td>\n",
       "    </tr>\n",
       "    <tr>\n",
       "      <th>36</th>\n",
       "      <td>-2.0</td>\n",
       "      <td>-2.0</td>\n",
       "      <td>a</td>\n",
       "    </tr>\n",
       "    <tr>\n",
       "      <th>40</th>\n",
       "      <td>1.0</td>\n",
       "      <td>1.0</td>\n",
       "      <td>b</td>\n",
       "    </tr>\n",
       "    <tr>\n",
       "      <th>66</th>\n",
       "      <td>14.0</td>\n",
       "      <td>14.0</td>\n",
       "      <td>d</td>\n",
       "    </tr>\n",
       "    <tr>\n",
       "      <th>68</th>\n",
       "      <td>4.0</td>\n",
       "      <td>4.0</td>\n",
       "      <td>c</td>\n",
       "    </tr>\n",
       "    <tr>\n",
       "      <th>69</th>\n",
       "      <td>0.0</td>\n",
       "      <td>0.0</td>\n",
       "      <td>b</td>\n",
       "    </tr>\n",
       "    <tr>\n",
       "      <th>72</th>\n",
       "      <td>-4.0</td>\n",
       "      <td>-4.0</td>\n",
       "      <td>a</td>\n",
       "    </tr>\n",
       "    <tr>\n",
       "      <th>74</th>\n",
       "      <td>15.0</td>\n",
       "      <td>15.0</td>\n",
       "      <td>d</td>\n",
       "    </tr>\n",
       "    <tr>\n",
       "      <th>76</th>\n",
       "      <td>17.0</td>\n",
       "      <td>17.0</td>\n",
       "      <td>d</td>\n",
       "    </tr>\n",
       "    <tr>\n",
       "      <th>96</th>\n",
       "      <td>1.0</td>\n",
       "      <td>1.0</td>\n",
       "      <td>b</td>\n",
       "    </tr>\n",
       "    <tr>\n",
       "      <th>99</th>\n",
       "      <td>21.0</td>\n",
       "      <td>21.0</td>\n",
       "      <td>e</td>\n",
       "    </tr>\n",
       "    <tr>\n",
       "      <th>117</th>\n",
       "      <td>0.0</td>\n",
       "      <td>0.0</td>\n",
       "      <td>b</td>\n",
       "    </tr>\n",
       "    <tr>\n",
       "      <th>172</th>\n",
       "      <td>14.0</td>\n",
       "      <td>14.0</td>\n",
       "      <td>d</td>\n",
       "    </tr>\n",
       "  </tbody>\n",
       "</table>\n",
       "</div>"
      ],
      "text/plain": [
       "     nutrition-score-fr_100g  nutriscore_score nutriscore_grade\n",
       "6                       18.0              18.0                d\n",
       "17                       1.0               1.0                b\n",
       "26                      14.0              14.0                d\n",
       "36                      -2.0              -2.0                a\n",
       "40                       1.0               1.0                b\n",
       "66                      14.0              14.0                d\n",
       "68                       4.0               4.0                c\n",
       "69                       0.0               0.0                b\n",
       "72                      -4.0              -4.0                a\n",
       "74                      15.0              15.0                d\n",
       "76                      17.0              17.0                d\n",
       "96                       1.0               1.0                b\n",
       "99                      21.0              21.0                e\n",
       "117                      0.0               0.0                b\n",
       "172                     14.0              14.0                d"
      ]
     },
     "execution_count": 39,
     "metadata": {},
     "output_type": "execute_result"
    }
   ],
   "source": [
    "#les 3 variables nutrition-score-fr_100g, nutriscore_score et nutriscore_grade semble présenter la même information\n",
    "#Affichons les\n",
    "df[['nutrition-score-fr_100g','nutriscore_score', 'nutriscore_grade']].dropna(how=\"any\").head(15)"
   ]
  },
  {
   "cell_type": "code",
   "execution_count": 40,
   "id": "9e1a08fb",
   "metadata": {},
   "outputs": [
    {
     "data": {
      "text/plain": [
       "nutrition-score-fr_100g    0.638175\n",
       "nutriscore_score           0.638178\n",
       "dtype: float64"
      ]
     },
     "execution_count": 40,
     "metadata": {},
     "output_type": "execute_result"
    }
   ],
   "source": [
    "#'nutrition-score-fr_100g','nutriscore_score' semblent être égaux\n",
    "#Vérifions le taux de remplissage\n",
    "df[['nutrition-score-fr_100g','nutriscore_score']].isna().mean()"
   ]
  },
  {
   "cell_type": "code",
   "execution_count": 41,
   "id": "8d81c9e7",
   "metadata": {},
   "outputs": [],
   "source": [
    "#Nous conservons le nutrition-score-fr_100g et le nutriscore_grade\n",
    "cols_to_keep = cols_to_keep.drop('nutriscore_score')"
   ]
  },
  {
   "cell_type": "markdown",
   "id": "28e8996e",
   "metadata": {},
   "source": [
    "### <font color=\"grey\">C9. Les variables mals renseignées : 'ingredients_text', 'additives_n', 'ingredients_from_palm_oil_n', 'ingredients_that_may_be_from_palm_oil_n', 'nova_group'</font>"
   ]
  },
  {
   "cell_type": "code",
   "execution_count": 42,
   "id": "513e0545",
   "metadata": {},
   "outputs": [
    {
     "data": {
      "text/plain": [
       "ingredients_text                           0.636282\n",
       "additives_n                                0.636281\n",
       "ingredients_from_palm_oil_n                0.636281\n",
       "ingredients_that_may_be_from_palm_oil_n    0.636281\n",
       "nova_group                                 0.682453\n",
       "dtype: float64"
      ]
     },
     "execution_count": 42,
     "metadata": {},
     "output_type": "execute_result"
    }
   ],
   "source": [
    "# Ces variables présentent un gros taux de val NaN\n",
    "df[['ingredients_text', 'additives_n', 'ingredients_from_palm_oil_n', \n",
    "    'ingredients_that_may_be_from_palm_oil_n', 'nova_group']].isna().mean()"
   ]
  },
  {
   "cell_type": "code",
   "execution_count": 43,
   "id": "7958427a",
   "metadata": {},
   "outputs": [
    {
     "data": {
      "text/html": [
       "<div>\n",
       "<style scoped>\n",
       "    .dataframe tbody tr th:only-of-type {\n",
       "        vertical-align: middle;\n",
       "    }\n",
       "\n",
       "    .dataframe tbody tr th {\n",
       "        vertical-align: top;\n",
       "    }\n",
       "\n",
       "    .dataframe thead th {\n",
       "        text-align: right;\n",
       "    }\n",
       "</style>\n",
       "<table border=\"1\" class=\"dataframe\">\n",
       "  <thead>\n",
       "    <tr style=\"text-align: right;\">\n",
       "      <th></th>\n",
       "      <th>ingredients_text</th>\n",
       "      <th>additives_n</th>\n",
       "      <th>ingredients_from_palm_oil_n</th>\n",
       "      <th>ingredients_that_may_be_from_palm_oil_n</th>\n",
       "      <th>nova_group</th>\n",
       "    </tr>\n",
       "  </thead>\n",
       "  <tbody>\n",
       "    <tr>\n",
       "      <th>25</th>\n",
       "      <td>antioxydant : érythorbate de sodium, colorant ...</td>\n",
       "      <td>5.0</td>\n",
       "      <td>0.0</td>\n",
       "      <td>0.0</td>\n",
       "      <td>4.0</td>\n",
       "    </tr>\n",
       "    <tr>\n",
       "      <th>33</th>\n",
       "      <td>Lait entier, sucre, amidon de maïs, cacao, Aga...</td>\n",
       "      <td>1.0</td>\n",
       "      <td>0.0</td>\n",
       "      <td>0.0</td>\n",
       "      <td>4.0</td>\n",
       "    </tr>\n",
       "    <tr>\n",
       "      <th>41</th>\n",
       "      <td>baguette Poite vin Pain baguette 50,6%: farine...</td>\n",
       "      <td>0.0</td>\n",
       "      <td>0.0</td>\n",
       "      <td>0.0</td>\n",
       "      <td>4.0</td>\n",
       "    </tr>\n",
       "    <tr>\n",
       "      <th>52</th>\n",
       "      <td>Paln suédois 42,6%: farine de BLÉ, eau, farine...</td>\n",
       "      <td>2.0</td>\n",
       "      <td>0.0</td>\n",
       "      <td>0.0</td>\n",
       "      <td>4.0</td>\n",
       "    </tr>\n",
       "    <tr>\n",
       "      <th>58</th>\n",
       "      <td>Taboulé 76,2%, légumes 12%, huile de colza, se...</td>\n",
       "      <td>1.0</td>\n",
       "      <td>0.0</td>\n",
       "      <td>0.0</td>\n",
       "      <td>4.0</td>\n",
       "    </tr>\n",
       "    <tr>\n",
       "      <th>59</th>\n",
       "      <td>Bananas, vegetable oil (coconut oil, corn oil ...</td>\n",
       "      <td>0.0</td>\n",
       "      <td>0.0</td>\n",
       "      <td>0.0</td>\n",
       "      <td>4.0</td>\n",
       "    </tr>\n",
       "    <tr>\n",
       "      <th>65</th>\n",
       "      <td>Jus et purée d'abricots (50% minimun), eau, su...</td>\n",
       "      <td>0.0</td>\n",
       "      <td>0.0</td>\n",
       "      <td>0.0</td>\n",
       "      <td>3.0</td>\n",
       "    </tr>\n",
       "    <tr>\n",
       "      <th>70</th>\n",
       "      <td>pain aux 6 céréqles 61,7 % farine (farine de B...</td>\n",
       "      <td>2.0</td>\n",
       "      <td>0.0</td>\n",
       "      <td>0.0</td>\n",
       "      <td>4.0</td>\n",
       "    </tr>\n",
       "    <tr>\n",
       "      <th>72</th>\n",
       "      <td>Bâguette Bressan Pain baguette 46,2%,' farine ...</td>\n",
       "      <td>3.0</td>\n",
       "      <td>0.0</td>\n",
       "      <td>0.0</td>\n",
       "      <td>4.0</td>\n",
       "    </tr>\n",
       "    <tr>\n",
       "      <th>141</th>\n",
       "      <td>Chocolate stars (dehydrated cane juice, sweete...</td>\n",
       "      <td>1.0</td>\n",
       "      <td>0.0</td>\n",
       "      <td>0.0</td>\n",
       "      <td>4.0</td>\n",
       "    </tr>\n",
       "    <tr>\n",
       "      <th>143</th>\n",
       "      <td>Dry roasted almonds, hatch green chile seasoni...</td>\n",
       "      <td>1.0</td>\n",
       "      <td>0.0</td>\n",
       "      <td>0.0</td>\n",
       "      <td>4.0</td>\n",
       "    </tr>\n",
       "    <tr>\n",
       "      <th>144</th>\n",
       "      <td>Peanut butter (dry roasted peanuts, palm oil, ...</td>\n",
       "      <td>2.0</td>\n",
       "      <td>0.0</td>\n",
       "      <td>0.0</td>\n",
       "      <td>4.0</td>\n",
       "    </tr>\n",
       "    <tr>\n",
       "      <th>153</th>\n",
       "      <td>Coconut bar (coconut, brown rice syrup), dark ...</td>\n",
       "      <td>1.0</td>\n",
       "      <td>0.0</td>\n",
       "      <td>0.0</td>\n",
       "      <td>4.0</td>\n",
       "    </tr>\n",
       "    <tr>\n",
       "      <th>164</th>\n",
       "      <td>Dark chocolate coating (unsweetened chocolate,...</td>\n",
       "      <td>1.0</td>\n",
       "      <td>0.0</td>\n",
       "      <td>0.0</td>\n",
       "      <td>4.0</td>\n",
       "    </tr>\n",
       "    <tr>\n",
       "      <th>168</th>\n",
       "      <td>Glycérine d'origine naturelle (stabilisant), s...</td>\n",
       "      <td>1.0</td>\n",
       "      <td>0.0</td>\n",
       "      <td>0.0</td>\n",
       "      <td>4.0</td>\n",
       "    </tr>\n",
       "  </tbody>\n",
       "</table>\n",
       "</div>"
      ],
      "text/plain": [
       "                                      ingredients_text  additives_n  \\\n",
       "25   antioxydant : érythorbate de sodium, colorant ...          5.0   \n",
       "33   Lait entier, sucre, amidon de maïs, cacao, Aga...          1.0   \n",
       "41   baguette Poite vin Pain baguette 50,6%: farine...          0.0   \n",
       "52   Paln suédois 42,6%: farine de BLÉ, eau, farine...          2.0   \n",
       "58   Taboulé 76,2%, légumes 12%, huile de colza, se...          1.0   \n",
       "59   Bananas, vegetable oil (coconut oil, corn oil ...          0.0   \n",
       "65   Jus et purée d'abricots (50% minimun), eau, su...          0.0   \n",
       "70   pain aux 6 céréqles 61,7 % farine (farine de B...          2.0   \n",
       "72   Bâguette Bressan Pain baguette 46,2%,' farine ...          3.0   \n",
       "141  Chocolate stars (dehydrated cane juice, sweete...          1.0   \n",
       "143  Dry roasted almonds, hatch green chile seasoni...          1.0   \n",
       "144  Peanut butter (dry roasted peanuts, palm oil, ...          2.0   \n",
       "153  Coconut bar (coconut, brown rice syrup), dark ...          1.0   \n",
       "164  Dark chocolate coating (unsweetened chocolate,...          1.0   \n",
       "168  Glycérine d'origine naturelle (stabilisant), s...          1.0   \n",
       "\n",
       "     ingredients_from_palm_oil_n  ingredients_that_may_be_from_palm_oil_n  \\\n",
       "25                           0.0                                      0.0   \n",
       "33                           0.0                                      0.0   \n",
       "41                           0.0                                      0.0   \n",
       "52                           0.0                                      0.0   \n",
       "58                           0.0                                      0.0   \n",
       "59                           0.0                                      0.0   \n",
       "65                           0.0                                      0.0   \n",
       "70                           0.0                                      0.0   \n",
       "72                           0.0                                      0.0   \n",
       "141                          0.0                                      0.0   \n",
       "143                          0.0                                      0.0   \n",
       "144                          0.0                                      0.0   \n",
       "153                          0.0                                      0.0   \n",
       "164                          0.0                                      0.0   \n",
       "168                          0.0                                      0.0   \n",
       "\n",
       "     nova_group  \n",
       "25          4.0  \n",
       "33          4.0  \n",
       "41          4.0  \n",
       "52          4.0  \n",
       "58          4.0  \n",
       "59          4.0  \n",
       "65          3.0  \n",
       "70          4.0  \n",
       "72          4.0  \n",
       "141         4.0  \n",
       "143         4.0  \n",
       "144         4.0  \n",
       "153         4.0  \n",
       "164         4.0  \n",
       "168         4.0  "
      ]
     },
     "execution_count": 43,
     "metadata": {},
     "output_type": "execute_result"
    }
   ],
   "source": [
    "#Affichons notre DF\n",
    "df[['ingredients_text', 'additives_n', 'ingredients_from_palm_oil_n', \n",
    "    'ingredients_that_may_be_from_palm_oil_n', 'nova_group']].dropna(how=\"any\").head(15)"
   ]
  },
  {
   "cell_type": "code",
   "execution_count": 44,
   "id": "5ff924bf",
   "metadata": {},
   "outputs": [],
   "source": [
    "#Nous n'exploiterons pas ces variables dans la suite de notre projet\n",
    "cols_to_keep = cols_to_keep.drop(['ingredients_text', 'additives_n', 'ingredients_from_palm_oil_n', \n",
    "    'ingredients_that_may_be_from_palm_oil_n', 'nova_group'])"
   ]
  },
  {
   "cell_type": "code",
   "execution_count": 45,
   "id": "25cca424",
   "metadata": {},
   "outputs": [],
   "source": [
    "#Mise à jour de notre Dataframe\n",
    "df = df[cols_to_keep]"
   ]
  },
  {
   "cell_type": "code",
   "execution_count": 46,
   "id": "b86727cf",
   "metadata": {
    "scrolled": true
   },
   "outputs": [
    {
     "name": "stdout",
     "output_type": "stream",
     "text": [
      "Il nous reste 16 variables\n"
     ]
    }
   ],
   "source": [
    "print(\"Il nous reste\",len(cols_to_keep),\"variables\")"
   ]
  },
  {
   "cell_type": "code",
   "execution_count": 47,
   "id": "19c55090",
   "metadata": {
    "scrolled": true
   },
   "outputs": [
    {
     "data": {
      "text/plain": [
       "Index(['code', 'product_name', 'brands', 'countries_en', 'nutriscore_grade',\n",
       "       'pnns_groups_1', 'pnns_groups_2', 'energy-kcal_100g', 'fat_100g',\n",
       "       'saturated-fat_100g', 'carbohydrates_100g', 'sugars_100g',\n",
       "       'proteins_100g', 'salt_100g', 'sodium_100g', 'nutrition-score-fr_100g'],\n",
       "      dtype='object')"
      ]
     },
     "execution_count": 47,
     "metadata": {},
     "output_type": "execute_result"
    }
   ],
   "source": [
    "# Affichons les\n",
    "df.columns"
   ]
  },
  {
   "cell_type": "markdown",
   "id": "e3ef8145",
   "metadata": {},
   "source": [
    "## <font color=\"purple\">D. Corrélation linéaire entre les variables</font>"
   ]
  },
  {
   "cell_type": "code",
   "execution_count": 48,
   "id": "65e3ad51",
   "metadata": {},
   "outputs": [
    {
     "data": {
      "text/plain": [
       "<AxesSubplot:>"
      ]
     },
     "execution_count": 48,
     "metadata": {},
     "output_type": "execute_result"
    },
    {
     "data": {
      "image/png": "[encoded data removed]",
      "text/plain": [
       "<Figure size 792x648 with 2 Axes>"
      ]
     },
     "metadata": {},
     "output_type": "display_data"
    }
   ],
   "source": [
    "# colonnes dupliquées\n",
    "sns.set_theme(style=\"white\")\n",
    "\n",
    "# Compute the correlation matrix\n",
    "corr = df.corr()\n",
    "\n",
    "# Generate a mask for the upper triangle\n",
    "mask = np.triu(np.ones_like(corr, dtype=bool))\n",
    "\n",
    "# Set up the matplotlib figure\n",
    "f, ax = plt.subplots(figsize=(11, 9))\n",
    "\n",
    "# Generate a custom diverging colormap\n",
    "cmap = sns.diverging_palette(230, 20, as_cmap=True)\n",
    "\n",
    "# Draw the heatmap with the mask and correct aspect ratio\n",
    "sns.heatmap(corr, mask=mask, cmap=cmap, vmax=1, center=0,\n",
    "square=True, linewidths=.5, cbar_kws={\"shrink\": .5})"
   ]
  },
  {
   "cell_type": "markdown",
   "id": "9d6611a1",
   "metadata": {},
   "source": [
    "<b>Les corrélations des variables ci-dessus paraissent curieuses ... </b>\n",
    "\n",
    "Les valeurs abhérentes semblent poser un problème.\n",
    "\n",
    "<b><font color=\"red\">Il va donc falloir s'occupper des valeurs abhérentes afin d'exploiter la correlation linéaire !</font></b>"
   ]
  },
  {
   "cell_type": "markdown",
   "id": "d55cc444",
   "metadata": {},
   "source": [
    "# <font color=\"Green\">Etape 2 : néttoyage des individus</font>"
   ]
  },
  {
   "cell_type": "markdown",
   "id": "4a8a18c0",
   "metadata": {},
   "source": [
    "## <font color=\"purple\">A. Suppression des Doublons</font>"
   ]
  },
  {
   "cell_type": "code",
   "execution_count": 49,
   "id": "b02b74d2",
   "metadata": {},
   "outputs": [
    {
     "data": {
      "text/plain": [
       "code    0.0\n",
       "dtype: float64"
      ]
     },
     "execution_count": 49,
     "metadata": {},
     "output_type": "execute_result"
    }
   ],
   "source": [
    "#La variable 'code' ne présente aucun Nan, ce qui en fait un candidat de choix pour la gestion des doublons\n",
    "df[['code']].isna().mean()"
   ]
  },
  {
   "cell_type": "code",
   "execution_count": 50,
   "id": "050f3100",
   "metadata": {},
   "outputs": [],
   "source": [
    "#Supprimmons les lignes en doublons\n",
    "df = df.drop_duplicates(subset=['code'])"
   ]
  },
  {
   "cell_type": "code",
   "execution_count": 51,
   "id": "7123a350",
   "metadata": {},
   "outputs": [
    {
     "name": "stdout",
     "output_type": "stream",
     "text": [
      "<class 'pandas.core.frame.DataFrame'>\n",
      "Int64Index: 1984843 entries, 0 to 1985073\n",
      "Data columns (total 16 columns):\n",
      " #   Column                   Dtype  \n",
      "---  ------                   -----  \n",
      " 0   code                     object \n",
      " 1   product_name             object \n",
      " 2   brands                   object \n",
      " 3   countries_en             object \n",
      " 4   nutriscore_grade         object \n",
      " 5   pnns_groups_1            object \n",
      " 6   pnns_groups_2            object \n",
      " 7   energy-kcal_100g         float64\n",
      " 8   fat_100g                 float64\n",
      " 9   saturated-fat_100g       float64\n",
      " 10  carbohydrates_100g       float64\n",
      " 11  sugars_100g              float64\n",
      " 12  proteins_100g            float64\n",
      " 13  salt_100g                float64\n",
      " 14  sodium_100g              float64\n",
      " 15  nutrition-score-fr_100g  float64\n",
      "dtypes: float64(9), object(7)\n",
      "memory usage: 257.4+ MB\n"
     ]
    }
   ],
   "source": [
    "df.info()"
   ]
  },
  {
   "cell_type": "markdown",
   "id": "62386971",
   "metadata": {},
   "source": [
    "## <font color=\"purple\">B. Valeurs abhérentes</font>"
   ]
  },
  {
   "cell_type": "code",
   "execution_count": 52,
   "id": "b5f534c7",
   "metadata": {},
   "outputs": [],
   "source": [
    "#Logiquement pour 100g, nous ne pouvons pas avoir des valeurs dépassants 100g,\n",
    "#créons une boucle pour filtrer notre DF\n",
    "\n",
    "#On déclare ind_nutris (i.e. sur quelles col va porter notre filtre)\n",
    "ind_nutris = ['nutrition-score-fr_100g','energy-kcal_100g', 'fat_100g',\n",
    "        'saturated-fat_100g', 'carbohydrates_100g',\n",
    "        'sugars_100g', 'proteins_100g', 'salt_100g']\n",
    "\n",
    "#On déclare notre boucle for\n",
    "for ind in ind_nutris:\n",
    "    \n",
    "#Attention, il faut bien prendre en compte les NA pour éviter de supprimmer trop de ligne de notre DF  \n",
    "\n",
    "    #Filtre nutrition-score-fr_100g\n",
    "    if ind == 'nutrition-score-fr_100g':\n",
    "        filter = df[ind].isna() | ((df[ind] > -15) & (df[ind] <= 40))\n",
    "        \n",
    "    #Filtre energy-kcal_100g       \n",
    "    elif ind == 'energy-kcal_100g':\n",
    "        filter = df[ind].isna() | ((df[ind] > 0) & (df[ind] <= 900))\n",
    "        \n",
    "    #Filtre sur les 100g      \n",
    "    else :\n",
    "        filter = df[ind].isna() | ((df[ind] > 0) & (df[ind] <= 100))\n",
    "    \n",
    "    #On filtre df\n",
    "    df = df[filter]"
   ]
  },
  {
   "cell_type": "code",
   "execution_count": 53,
   "id": "cfe33337",
   "metadata": {},
   "outputs": [],
   "source": [
    "#Nous allons également supprimmer les lignes avec trop de Nan par ligne (pour les variables nutri)\n",
    "#filtre sur les valeurs nutri avec - de 4 Na par ligne\n",
    "nutri_vars = ['energy-kcal_100g', 'fat_100g',\n",
    "        'saturated-fat_100g', 'carbohydrates_100g',\n",
    "        'sugars_100g', 'proteins_100g', 'salt_100g']\n",
    "filtre_na_sum = df[nutri_vars].isna().sum(axis=1)<4\n",
    "df=df[filtre_na_sum]"
   ]
  },
  {
   "cell_type": "code",
   "execution_count": 54,
   "id": "f5dbd2f0",
   "metadata": {},
   "outputs": [
    {
     "data": {
      "text/plain": [
       "code                       0.000000\n",
       "product_name               0.005766\n",
       "brands                     0.436985\n",
       "countries_en               0.001819\n",
       "nutriscore_grade           0.544790\n",
       "pnns_groups_1              0.000000\n",
       "pnns_groups_2              0.000000\n",
       "energy-kcal_100g           0.041304\n",
       "fat_100g                   0.003219\n",
       "saturated-fat_100g         0.014680\n",
       "carbohydrates_100g         0.004209\n",
       "sugars_100g                0.010251\n",
       "proteins_100g              0.001501\n",
       "salt_100g                  0.072819\n",
       "sodium_100g                0.072821\n",
       "nutrition-score-fr_100g    0.544784\n",
       "dtype: float64"
      ]
     },
     "execution_count": 54,
     "metadata": {},
     "output_type": "execute_result"
    }
   ],
   "source": [
    "#Vérification\n",
    "df.isna().mean(axis=0)"
   ]
  },
  {
   "cell_type": "code",
   "execution_count": 56,
   "id": "b3a53ed6",
   "metadata": {},
   "outputs": [
    {
     "name": "stdout",
     "output_type": "stream",
     "text": [
      "<class 'pandas.core.frame.DataFrame'>\n",
      "Int64Index: 994307 entries, 1 to 1985068\n",
      "Data columns (total 16 columns):\n",
      " #   Column                   Non-Null Count   Dtype  \n",
      "---  ------                   --------------   -----  \n",
      " 0   code                     994307 non-null  object \n",
      " 1   product_name             988574 non-null  object \n",
      " 2   brands                   559810 non-null  object \n",
      " 3   countries_en             992498 non-null  object \n",
      " 4   nutriscore_grade         452618 non-null  object \n",
      " 5   pnns_groups_1            994307 non-null  object \n",
      " 6   pnns_groups_2            994307 non-null  object \n",
      " 7   energy-kcal_100g         953238 non-null  float64\n",
      " 8   fat_100g                 991106 non-null  float64\n",
      " 9   saturated-fat_100g       979711 non-null  float64\n",
      " 10  carbohydrates_100g       990122 non-null  float64\n",
      " 11  sugars_100g              984114 non-null  float64\n",
      " 12  proteins_100g            992815 non-null  float64\n",
      " 13  salt_100g                921903 non-null  float64\n",
      " 14  sodium_100g              921901 non-null  float64\n",
      " 15  nutrition-score-fr_100g  452624 non-null  float64\n",
      "dtypes: float64(9), object(7)\n",
      "memory usage: 129.0+ MB\n"
     ]
    }
   ],
   "source": [
    "df.info()"
   ]
  },
  {
   "cell_type": "markdown",
   "id": "fc4a5b2a",
   "metadata": {},
   "source": [
    "# <font color=\"Green\">Etape 3 : retour sur les variables</font>"
   ]
  },
  {
   "cell_type": "markdown",
   "id": "69ccb8a0",
   "metadata": {},
   "source": [
    "## <font color=\"purple\">A. nouvelle corrélation linéaire des variables</font>"
   ]
  },
  {
   "cell_type": "code",
   "execution_count": 57,
   "id": "e98a60ba",
   "metadata": {},
   "outputs": [
    {
     "data": {
      "text/plain": [
       "<AxesSubplot:>"
      ]
     },
     "execution_count": 57,
     "metadata": {},
     "output_type": "execute_result"
    },
    {
     "data": {
      "image/png": "[encoded data removed]",
      "text/plain": [
       "<Figure size 792x648 with 2 Axes>"
      ]
     },
     "metadata": {},
     "output_type": "display_data"
    }
   ],
   "source": [
    "#colonnes dupliquées\n",
    "sns.set_theme(style=\"white\")\n",
    "\n",
    "# Compute the correlation matrix\n",
    "corr = df.corr()\n",
    "\n",
    "# Generate a mask for the upper triangle\n",
    "mask = np.triu(np.ones_like(corr, dtype=bool))\n",
    "\n",
    "# Set up the matplotlib figure\n",
    "f, ax = plt.subplots(figsize=(11, 9))\n",
    "\n",
    "# Generate a custom diverging colormap\n",
    "cmap = sns.diverging_palette(230, 20, as_cmap=True)\n",
    "\n",
    "# Draw the heatmap with the mask and correct aspect ratio\n",
    "sns.heatmap(corr, mask=mask, cmap=cmap, vmax=1, center=0,\n",
    "square=True, linewidths=.5, cbar_kws={\"shrink\": .5})"
   ]
  },
  {
   "cell_type": "markdown",
   "id": "624aaf00",
   "metadata": {},
   "source": [
    "<b><font color=\"green\">Le graphique semble plus exploitable</font></b>\n",
    "\n",
    "<b><font color = \"red\">On remarque une corrélation de 1 entre le sel ('salt_100g') et le sodium_100g</font></b>"
   ]
  },
  {
   "cell_type": "markdown",
   "id": "1fb4cdfc",
   "metadata": {},
   "source": [
    "## <font color=\"purple\">B. salt_100g & sodium_100g</font>"
   ]
  },
  {
   "cell_type": "code",
   "execution_count": 58,
   "id": "17e9cb95",
   "metadata": {},
   "outputs": [
    {
     "data": {
      "text/html": [
       "<div>\n",
       "<style scoped>\n",
       "    .dataframe tbody tr th:only-of-type {\n",
       "        vertical-align: middle;\n",
       "    }\n",
       "\n",
       "    .dataframe tbody tr th {\n",
       "        vertical-align: top;\n",
       "    }\n",
       "\n",
       "    .dataframe thead th {\n",
       "        text-align: right;\n",
       "    }\n",
       "</style>\n",
       "<table border=\"1\" class=\"dataframe\">\n",
       "  <thead>\n",
       "    <tr style=\"text-align: right;\">\n",
       "      <th></th>\n",
       "      <th>salt_100g</th>\n",
       "      <th>sodium_100g</th>\n",
       "    </tr>\n",
       "  </thead>\n",
       "  <tbody>\n",
       "    <tr>\n",
       "      <th>1</th>\n",
       "      <td>0.100</td>\n",
       "      <td>0.0400</td>\n",
       "    </tr>\n",
       "    <tr>\n",
       "      <th>2</th>\n",
       "      <td>1.400</td>\n",
       "      <td>0.5600</td>\n",
       "    </tr>\n",
       "    <tr>\n",
       "      <th>4</th>\n",
       "      <td>1.100</td>\n",
       "      <td>0.4400</td>\n",
       "    </tr>\n",
       "    <tr>\n",
       "      <th>5</th>\n",
       "      <td>2.100</td>\n",
       "      <td>0.8400</td>\n",
       "    </tr>\n",
       "    <tr>\n",
       "      <th>6</th>\n",
       "      <td>4.600</td>\n",
       "      <td>1.8400</td>\n",
       "    </tr>\n",
       "    <tr>\n",
       "      <th>9</th>\n",
       "      <td>1.150</td>\n",
       "      <td>0.4600</td>\n",
       "    </tr>\n",
       "    <tr>\n",
       "      <th>17</th>\n",
       "      <td>0.420</td>\n",
       "      <td>0.1680</td>\n",
       "    </tr>\n",
       "    <tr>\n",
       "      <th>18</th>\n",
       "      <td>0.250</td>\n",
       "      <td>0.1000</td>\n",
       "    </tr>\n",
       "    <tr>\n",
       "      <th>21</th>\n",
       "      <td>0.100</td>\n",
       "      <td>0.0400</td>\n",
       "    </tr>\n",
       "    <tr>\n",
       "      <th>22</th>\n",
       "      <td>0.678</td>\n",
       "      <td>0.2712</td>\n",
       "    </tr>\n",
       "  </tbody>\n",
       "</table>\n",
       "</div>"
      ],
      "text/plain": [
       "    salt_100g  sodium_100g\n",
       "1       0.100       0.0400\n",
       "2       1.400       0.5600\n",
       "4       1.100       0.4400\n",
       "5       2.100       0.8400\n",
       "6       4.600       1.8400\n",
       "9       1.150       0.4600\n",
       "17      0.420       0.1680\n",
       "18      0.250       0.1000\n",
       "21      0.100       0.0400\n",
       "22      0.678       0.2712"
      ]
     },
     "execution_count": 58,
     "metadata": {},
     "output_type": "execute_result"
    }
   ],
   "source": [
    "#Observons ces variables (sans les NaN)\n",
    "df[['salt_100g','sodium_100g']].dropna(how='any').head(10)"
   ]
  },
  {
   "cell_type": "markdown",
   "id": "b8fc02db",
   "metadata": {},
   "source": [
    "<b><u><font size=\"3\">source internet</font></u></b> : </br>\n",
    "Le sel est composé de chlore et de sodium, on le nomme donc aussi chlorure de sodium.</br>\n",
    "Le sodium n'est donc qu'un des deux composés du sel.</br>\n",
    "<b><font color=\"red\">1g de sel contient 400 mg de sodium et 600 mg de chlore.</font></b></br>\n",
    "<i><font color=\"grey\">N.B. À l'inverse il faut 2,5 g de sel pour obtenir 1 g de sodium</font></i>\n",
    "\n",
    "<b><u><font size =\"3\">Conclusion</font></u> :</br>\n",
    "<font color = \"red\">'sodium_100g'</font> = <font color = \"red\">'salt_100g'</font> X <font color=\"green\">0.4</font></b></br>\n",
    "\n",
    "<b><font size = \"4\">=> Nous ne conservons donc qu'une seule des deux variables !</font></b>\n"
   ]
  },
  {
   "cell_type": "code",
   "execution_count": 59,
   "id": "93598602",
   "metadata": {},
   "outputs": [],
   "source": [
    "#Nous n'utiliserons plus le Sodium à l'avenir\n",
    "cols_to_keep = cols_to_keep.drop(\"sodium_100g\")"
   ]
  },
  {
   "cell_type": "code",
   "execution_count": 60,
   "id": "8b0a6b16",
   "metadata": {},
   "outputs": [],
   "source": [
    "#Mise à jour de notre DF\n",
    "df = df[cols_to_keep]"
   ]
  },
  {
   "cell_type": "code",
   "execution_count": 61,
   "id": "273af351",
   "metadata": {},
   "outputs": [
    {
     "name": "stdout",
     "output_type": "stream",
     "text": [
      "Il nous reste 15 Variables\n"
     ]
    }
   ],
   "source": [
    "print(\"Il nous reste\",len(df.columns),\"Variables\")"
   ]
  },
  {
   "cell_type": "markdown",
   "id": "b165a70c",
   "metadata": {},
   "source": [
    "# <font color=\"Green\">Etape 4 : Imputation des valeurs manquantes (avec sickit Learn)</font>"
   ]
  },
  {
   "cell_type": "code",
   "execution_count": 61,
   "id": "3fa892b5",
   "metadata": {},
   "outputs": [
    {
     "name": "stderr",
     "output_type": "stream",
     "text": [
      "/home/anthony/.local/lib/python3.8/site-packages/sklearn/impute/_iterative.py:699: ConvergenceWarning: [IterativeImputer] Early stopping criterion not reached.\n",
      "  warnings.warn(\n"
     ]
    }
   ],
   "source": [
    "#Nous utilisons scikit-learn pour imputer les val nutri manquantes (machine learning)\n",
    "nutri_vars = ['energy-kcal_100g', 'fat_100g',\n",
    "       'saturated-fat_100g', 'carbohydrates_100g', 'sugars_100g',\n",
    "       'proteins_100g', 'salt_100g']\n",
    "imp_mean = IterativeImputer(random_state=0)\n",
    "imp_mean.fit(df[nutri_vars])\n",
    "df.loc[:, nutri_vars] = imp_mean.transform(df[nutri_vars])"
   ]
  },
  {
   "cell_type": "code",
   "execution_count": 62,
   "id": "f31747f4",
   "metadata": {},
   "outputs": [
    {
     "data": {
      "text/plain": [
       "code                       0.000000\n",
       "product_name               0.005766\n",
       "brands                     0.436985\n",
       "countries_en               0.001819\n",
       "nutriscore_grade           0.544790\n",
       "pnns_groups_1              0.000000\n",
       "pnns_groups_2              0.000000\n",
       "energy-kcal_100g           0.000000\n",
       "fat_100g                   0.000000\n",
       "saturated-fat_100g         0.000000\n",
       "carbohydrates_100g         0.000000\n",
       "sugars_100g                0.000000\n",
       "proteins_100g              0.000000\n",
       "salt_100g                  0.000000\n",
       "nutrition-score-fr_100g    0.544784\n",
       "dtype: float64"
      ]
     },
     "execution_count": 62,
     "metadata": {},
     "output_type": "execute_result"
    }
   ],
   "source": [
    "#Vérification\n",
    "df.isna().mean(axis=0)"
   ]
  },
  {
   "cell_type": "code",
   "execution_count": 62,
   "id": "9fd0b13c",
   "metadata": {},
   "outputs": [
    {
     "name": "stdout",
     "output_type": "stream",
     "text": [
      "<class 'pandas.core.frame.DataFrame'>\n",
      "Int64Index: 994307 entries, 1 to 1985068\n",
      "Data columns (total 15 columns):\n",
      " #   Column                   Non-Null Count   Dtype  \n",
      "---  ------                   --------------   -----  \n",
      " 0   code                     994307 non-null  object \n",
      " 1   product_name             988574 non-null  object \n",
      " 2   brands                   559810 non-null  object \n",
      " 3   countries_en             992498 non-null  object \n",
      " 4   nutriscore_grade         452618 non-null  object \n",
      " 5   pnns_groups_1            994307 non-null  object \n",
      " 6   pnns_groups_2            994307 non-null  object \n",
      " 7   energy-kcal_100g         953238 non-null  float64\n",
      " 8   fat_100g                 991106 non-null  float64\n",
      " 9   saturated-fat_100g       979711 non-null  float64\n",
      " 10  carbohydrates_100g       990122 non-null  float64\n",
      " 11  sugars_100g              984114 non-null  float64\n",
      " 12  proteins_100g            992815 non-null  float64\n",
      " 13  salt_100g                921903 non-null  float64\n",
      " 14  nutrition-score-fr_100g  452624 non-null  float64\n",
      "dtypes: float64(8), object(7)\n",
      "memory usage: 121.4+ MB\n"
     ]
    }
   ],
   "source": [
    "df.info()"
   ]
  },
  {
   "cell_type": "markdown",
   "id": "e6fa089f",
   "metadata": {},
   "source": [
    "# <font color=\"Green\">Etape 5 : Enregistrer le résultat dans un .csv</font>"
   ]
  },
  {
   "cell_type": "code",
   "execution_count": 63,
   "id": "4af976e7",
   "metadata": {},
   "outputs": [],
   "source": [
    "df.to_csv('Nutri_data_clean.csv', index=False, encoding='utf-8')"
   ]
  }
 ],
 "metadata": {
  "kernelspec": {
   "display_name": "Python 3 (ipykernel)",
   "language": "python",
   "name": "python3"
  },
  "language_info": {
   "codemirror_mode": {
    "name": "ipython",
    "version": 3
   },
   "file_extension": ".py",
   "mimetype": "text/x-python",
   "name": "python",
   "nbconvert_exporter": "python",
   "pygments_lexer": "ipython3",
   "version": "3.9.12"
  }
 },
 "nbformat": 4,
 "nbformat_minor": 5
}
